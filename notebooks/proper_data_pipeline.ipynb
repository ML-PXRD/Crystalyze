{
 "cells": [
  {
   "cell_type": "markdown",
   "id": "a04a4b14",
   "metadata": {},
   "source": [
    "Step 1: Generate underlying diffraction data "
   ]
  },
  {
   "cell_type": "code",
   "execution_count": 43,
   "id": "f341144e",
   "metadata": {},
   "outputs": [
    {
     "name": "stdout",
     "output_type": "stream",
     "text": [
      "worker_num 0\n",
      "num_splits 100\n",
      "using the default data_dir /home/gridsan/tmackey/cdvae/data/mp_20_final_reproduction\n",
      "start_index 0\n",
      "end_index 4\n"
     ]
    },
    {
     "data": {
      "application/vnd.jupyter.widget-view+json": {
       "model_id": "69c162dd935a4b6a8123af2f862f148f",
       "version_major": 2,
       "version_minor": 0
      },
      "text/plain": [
       "  0%|          | 0/4 [00:00<?, ?it/s]"
      ]
     },
     "metadata": {},
     "output_type": "display_data"
    },
    {
     "name": "stderr",
     "output_type": "stream",
     "text": [
      "/home/gridsan/tmackey/.conda/envs/cdvae/lib/python3.8/site-packages/pymatgen/io/cif.py:1168: UserWarning: Issues encountered while parsing CIF: Some fractional coordinates rounded to ideal values to avoid issues with finite precision.\n",
      "  warnings.warn(\"Issues encountered while parsing CIF: \" + \"\\n\".join(self.warnings))\n"
     ]
    },
    {
     "data": {
      "application/vnd.jupyter.widget-view+json": {
       "model_id": "cbb7c4ddc0574e17827a8392ef5b5a06",
       "version_major": 2,
       "version_minor": 0
      },
      "text/plain": [
       "  0%|          | 0/4 [00:00<?, ?it/s]"
      ]
     },
     "metadata": {},
     "output_type": "display_data"
    },
    {
     "data": {
      "application/vnd.jupyter.widget-view+json": {
       "model_id": "5d99107030d04f209359c0ede97b0862",
       "version_major": 2,
       "version_minor": 0
      },
      "text/plain": [
       "  0%|          | 0/4 [00:00<?, ?it/s]"
      ]
     },
     "metadata": {},
     "output_type": "display_data"
    },
    {
     "data": {
      "application/vnd.jupyter.widget-view+json": {
       "model_id": "5602a6c8cd8c4baabf62b6b31bfb0d50",
       "version_major": 2,
       "version_minor": 0
      },
      "text/plain": [
       "  0%|          | 0/4 [00:00<?, ?it/s]"
      ]
     },
     "metadata": {},
     "output_type": "display_data"
    },
    {
     "data": {
      "application/vnd.jupyter.widget-view+json": {
       "model_id": "42c57210148e4a0eb7a6b82fcd60b8d7",
       "version_major": 2,
       "version_minor": 0
      },
      "text/plain": [
       "  0%|          | 0/4 [00:00<?, ?it/s]"
      ]
     },
     "metadata": {},
     "output_type": "display_data"
    },
    {
     "name": "stdout",
     "output_type": "stream",
     "text": [
      "start_index 0\n",
      "end_index 1\n"
     ]
    },
    {
     "data": {
      "application/vnd.jupyter.widget-view+json": {
       "model_id": "61f2712547764e9a97bc957fbed4ef61",
       "version_major": 2,
       "version_minor": 0
      },
      "text/plain": [
       "  0%|          | 0/1 [00:00<?, ?it/s]"
      ]
     },
     "metadata": {},
     "output_type": "display_data"
    },
    {
     "data": {
      "application/vnd.jupyter.widget-view+json": {
       "model_id": "7590176212af492a9c4e8fd59a5fff17",
       "version_major": 2,
       "version_minor": 0
      },
      "text/plain": [
       "  0%|          | 0/1 [00:00<?, ?it/s]"
      ]
     },
     "metadata": {},
     "output_type": "display_data"
    },
    {
     "data": {
      "application/vnd.jupyter.widget-view+json": {
       "model_id": "7b423afa99bb4eee8284dd531e3326ca",
       "version_major": 2,
       "version_minor": 0
      },
      "text/plain": [
       "  0%|          | 0/1 [00:00<?, ?it/s]"
      ]
     },
     "metadata": {},
     "output_type": "display_data"
    },
    {
     "data": {
      "application/vnd.jupyter.widget-view+json": {
       "model_id": "7b5bc1bb75d64f21b4c894d5017a558e",
       "version_major": 2,
       "version_minor": 0
      },
      "text/plain": [
       "  0%|          | 0/1 [00:00<?, ?it/s]"
      ]
     },
     "metadata": {},
     "output_type": "display_data"
    },
    {
     "data": {
      "application/vnd.jupyter.widget-view+json": {
       "model_id": "64e0aa93f166464ab1470fe55ec02a69",
       "version_major": 2,
       "version_minor": 0
      },
      "text/plain": [
       "  0%|          | 0/1 [00:00<?, ?it/s]"
      ]
     },
     "metadata": {},
     "output_type": "display_data"
    },
    {
     "name": "stdout",
     "output_type": "stream",
     "text": [
      "start_index 0\n",
      "end_index 1\n"
     ]
    },
    {
     "data": {
      "application/vnd.jupyter.widget-view+json": {
       "model_id": "15477c05fed64cd78625c0ad4ad518d2",
       "version_major": 2,
       "version_minor": 0
      },
      "text/plain": [
       "  0%|          | 0/1 [00:00<?, ?it/s]"
      ]
     },
     "metadata": {},
     "output_type": "display_data"
    },
    {
     "data": {
      "application/vnd.jupyter.widget-view+json": {
       "model_id": "3a3663443680443cb9f46e81ea17ec90",
       "version_major": 2,
       "version_minor": 0
      },
      "text/plain": [
       "  0%|          | 0/1 [00:00<?, ?it/s]"
      ]
     },
     "metadata": {},
     "output_type": "display_data"
    },
    {
     "data": {
      "application/vnd.jupyter.widget-view+json": {
       "model_id": "0ac605b482b44a41b7b7ce977b61ca63",
       "version_major": 2,
       "version_minor": 0
      },
      "text/plain": [
       "  0%|          | 0/1 [00:00<?, ?it/s]"
      ]
     },
     "metadata": {},
     "output_type": "display_data"
    },
    {
     "data": {
      "application/vnd.jupyter.widget-view+json": {
       "model_id": "d90db29cc68042699222c6dd5426690c",
       "version_major": 2,
       "version_minor": 0
      },
      "text/plain": [
       "  0%|          | 0/1 [00:00<?, ?it/s]"
      ]
     },
     "metadata": {},
     "output_type": "display_data"
    },
    {
     "data": {
      "application/vnd.jupyter.widget-view+json": {
       "model_id": "33aec293f0a7468996c404b2e37182e4",
       "version_major": 2,
       "version_minor": 0
      },
      "text/plain": [
       "  0%|          | 0/1 [00:00<?, ?it/s]"
      ]
     },
     "metadata": {},
     "output_type": "display_data"
    }
   ],
   "source": [
    "from pymatgen.core.structure import Structure\n",
    "from pymatgen.core.periodic_table import Element\n",
    "from pymatgen.core.lattice import Lattice\n",
    "from pymatgen.analysis.diffraction.xrd import XRDCalculator\n",
    "\n",
    "import pandas as pd\n",
    "\n",
    "import sys\n",
    "import os\n",
    "import numpy as np\n",
    "\n",
    "#with a big dataset, it can be helpful to parallelize over chunks of the data\n",
    "#read in the worker number \n",
    "try:\n",
    "    worker_num = int(sys.argv[1])\n",
    "    num_splits = int(sys.argv[2])\n",
    "except:\n",
    "    worker_num = 0\n",
    "    num_splits = 1 #increase this if you are doing distributed preprocessing\n",
    "\n",
    "print(\"worker_num\", worker_num)\n",
    "print(\"num_splits\", num_splits)\n",
    "\n",
    "try: \n",
    "    print('using data_dir', str(sys.argv[3]))\n",
    "    data_dir = str(sys.argv[3])\n",
    "except:\n",
    "    ### NOTE: CHANGE THIS FOR YOUR LOCAL SYSTEM \n",
    "    data_dir = '/home/gridsan/tmackey/cdvae/data/mp_20_final_reproduction'\n",
    "    print('using the default data_dir', data_dir)\n",
    "\n",
    "#load in the data \n",
    "train_path = os.path.join(data_dir, 'train.csv')\n",
    "val_path = os.path.join(data_dir, 'val.csv')\n",
    "test_path = os.path.join(data_dir, 'test.csv')\n",
    "\n",
    "train_df = pd.read_csv(train_path)\n",
    "val_df = pd.read_csv(val_path)\n",
    "test_df = pd.read_csv(test_path)\n",
    "\n",
    "dataframes = {'train': train_df, 'val': val_df, 'test': test_df}\n",
    "\n",
    "# Initialize the XRDCalculator with a wavelength of CuKa (1.54060 Å)\n",
    "xrd_calculator = XRDCalculator(wavelength='CuKa')\n",
    "from tqdm.auto import tqdm\n",
    "tqdm.pandas()\n",
    "\n",
    "def get_xrd_information(crystal_str):\n",
    "    try: \n",
    "        crystal = Structure.from_str(crystal_str, fmt='cif')\n",
    "    except:\n",
    "        crystal = None\n",
    "\n",
    "    try:  \n",
    "        xrd = xrd_calculator.get_pattern(crystal)\n",
    "    except: \n",
    "        xrd = None\n",
    "\n",
    "    try: \n",
    "        x = xrd.x.tolist()\n",
    "        y = xrd.y.tolist()\n",
    "    except:\n",
    "        x = None\n",
    "        y = None\n",
    "\n",
    "    try: \n",
    "        atomic_species = [Element(specie).Z for specie in crystal.species]\n",
    "    except: \n",
    "        atomic_species = None\n",
    "\n",
    "    return [xrd, x, y, atomic_species]\n",
    "\n",
    "data_frames = {\"train\": train_df, \"test\": test_df, \"val\": val_df}\n",
    "\n",
    "worker_dir = os.path.join(data_dir, \"worker_data\")\n",
    "os.makedirs(worker_dir, exist_ok=True)\n",
    "\n",
    "for name, df in data_frames.items():\n",
    "    \n",
    "    chunk_size = np.ceil(len(df)/num_splits)\n",
    "    \n",
    "    start_index = int(worker_num*chunk_size)\n",
    "    end_index = int(min(start_index + chunk_size, len(df))) #prevents end index > len(df)\n",
    "    \n",
    "    print(\"start_index\", start_index)\n",
    "    print(\"end_index\", end_index)\n",
    "\n",
    "    sub_df = df.iloc[start_index:end_index].copy()\n",
    "    sub_crystals = sub_df['cif'].progress_apply(get_xrd_information)\n",
    "    sub_df['xrd'] = sub_crystals.progress_apply(lambda x: x[0])\n",
    "    sub_df['xrd_peak_locations'] = sub_crystals.progress_apply(lambda x: x[1])\n",
    "    sub_df['xrd_peak_intensities'] = sub_crystals.progress_apply(lambda x: x[2])\n",
    "    sub_df['atomic_numbers'] = sub_crystals.progress_apply(lambda x: x[3])\n",
    "\n",
    "    #save the csv\n",
    "    sub_df.to_csv(os.path.join(worker_dir,f'{name}_xrd_{worker_num}.csv'), index=False)"
   ]
  },
  {
   "cell_type": "markdown",
   "id": "ac4ad1d3",
   "metadata": {},
   "source": [
    "next step is merging "
   ]
  },
  {
   "cell_type": "code",
   "execution_count": 44,
   "id": "0110de15",
   "metadata": {},
   "outputs": [
    {
     "name": "stderr",
     "output_type": "stream",
     "text": [
      "100%|██████████| 1/1 [00:00<00:00, 24.66it/s]\n"
     ]
    },
    {
     "name": "stdout",
     "output_type": "stream",
     "text": [
      "Saved train dataset\n"
     ]
    },
    {
     "name": "stderr",
     "output_type": "stream",
     "text": [
      "100%|██████████| 1/1 [00:00<00:00, 71.71it/s]\n"
     ]
    },
    {
     "name": "stdout",
     "output_type": "stream",
     "text": [
      "Saved test dataset\n"
     ]
    },
    {
     "name": "stderr",
     "output_type": "stream",
     "text": [
      "100%|██████████| 1/1 [00:00<00:00, 126.81it/s]\n"
     ]
    },
    {
     "name": "stdout",
     "output_type": "stream",
     "text": [
      "Saved val dataset\n"
     ]
    }
   ],
   "source": [
    "import pandas as pd\n",
    "import numpy as np\n",
    "from tqdm import tqdm\n",
    "import os \n",
    "\n",
    "#assuming all of the data was stored as .pt dictionaries of string keys and graph values\n",
    "num_workers = 1\n",
    "dataset_names =  ['train', 'test', 'val']\n",
    "data_dir = \"/home/gridsan/tmackey/cdvae/data/mp_20_final_reproduction\"\n",
    "worker_dir = \"/home/gridsan/tmackey/cdvae/data/mp_20_final_reproduction/worker_data/\"\n",
    "\n",
    "for name in dataset_names:\n",
    "    total_df = pd.DataFrame()\n",
    "    for worker_num in tqdm(range(num_workers)):\n",
    "        df = pd.read_csv(os.path.join(worker_dir + f'{name}_xrd_{worker_num}.csv'))\n",
    "        #add df without using append\n",
    "        total_df = pd.concat([total_df, df])\n",
    "\n",
    "    output_filepath = os.path.join(data_dir, f'{name}_xrd.csv')\n",
    "    total_df.to_csv(output_filepath, index=False)\n",
    "    print(f\"Saved {name} dataset\")"
   ]
  },
  {
   "cell_type": "markdown",
   "id": "12f8ee5d",
   "metadata": {},
   "source": [
    "Step 2: Create the disc sim xrd information. This is no longer used in the model, but is still required as an input. Will likely be removed from the model dataloader soon. Upon which this section can be disregarded."
   ]
  },
  {
   "cell_type": "code",
   "execution_count": 45,
   "id": "9988e528",
   "metadata": {},
   "outputs": [
    {
     "data": {
      "application/vnd.jupyter.widget-view+json": {
       "model_id": "ba1902b2a3874bb9bb2376648b1d4576",
       "version_major": 2,
       "version_minor": 0
      },
      "text/plain": [
       "  0%|          | 0/361 [00:00<?, ?it/s]"
      ]
     },
     "metadata": {},
     "output_type": "display_data"
    },
    {
     "data": {
      "application/vnd.jupyter.widget-view+json": {
       "model_id": "09a259dc4b3e40a69cdc06f9a7c6a0d0",
       "version_major": 2,
       "version_minor": 0
      },
      "text/plain": [
       "  0%|          | 0/361 [00:00<?, ?it/s]"
      ]
     },
     "metadata": {},
     "output_type": "display_data"
    },
    {
     "data": {
      "application/vnd.jupyter.widget-view+json": {
       "model_id": "a6a71044dbb946c3b50cbe068ca83e80",
       "version_major": 2,
       "version_minor": 0
      },
      "text/plain": [
       "  0%|          | 0/361 [00:00<?, ?it/s]"
      ]
     },
     "metadata": {},
     "output_type": "display_data"
    },
    {
     "data": {
      "application/vnd.jupyter.widget-view+json": {
       "model_id": "1b06c93e9b8f4fa987e3edf4a25c773d",
       "version_major": 2,
       "version_minor": 0
      },
      "text/plain": [
       "  0%|          | 0/46 [00:00<?, ?it/s]"
      ]
     },
     "metadata": {},
     "output_type": "display_data"
    },
    {
     "data": {
      "application/vnd.jupyter.widget-view+json": {
       "model_id": "58e26bdf91f44aedaed903ea6ee24972",
       "version_major": 2,
       "version_minor": 0
      },
      "text/plain": [
       "  0%|          | 0/46 [00:00<?, ?it/s]"
      ]
     },
     "metadata": {},
     "output_type": "display_data"
    },
    {
     "data": {
      "application/vnd.jupyter.widget-view+json": {
       "model_id": "2fbb710dab2544c895af19a8b0ef30d4",
       "version_major": 2,
       "version_minor": 0
      },
      "text/plain": [
       "  0%|          | 0/46 [00:00<?, ?it/s]"
      ]
     },
     "metadata": {},
     "output_type": "display_data"
    },
    {
     "data": {
      "application/vnd.jupyter.widget-view+json": {
       "model_id": "8d1ed88a5b5849d2b1f44aba7774f135",
       "version_major": 2,
       "version_minor": 0
      },
      "text/plain": [
       "  0%|          | 0/46 [00:00<?, ?it/s]"
      ]
     },
     "metadata": {},
     "output_type": "display_data"
    },
    {
     "data": {
      "application/vnd.jupyter.widget-view+json": {
       "model_id": "900a6ad47e9c4b41b8c36fe5161631b5",
       "version_major": 2,
       "version_minor": 0
      },
      "text/plain": [
       "  0%|          | 0/46 [00:00<?, ?it/s]"
      ]
     },
     "metadata": {},
     "output_type": "display_data"
    },
    {
     "data": {
      "application/vnd.jupyter.widget-view+json": {
       "model_id": "cc4f40b8698b4cb983a99980984a08ef",
       "version_major": 2,
       "version_minor": 0
      },
      "text/plain": [
       "  0%|          | 0/46 [00:00<?, ?it/s]"
      ]
     },
     "metadata": {},
     "output_type": "display_data"
    }
   ],
   "source": [
    "import pandas as pd\n",
    "\n",
    "import sys\n",
    "import os\n",
    "import numpy as np\n",
    "import ast\n",
    "from tqdm.auto import tqdm\n",
    "tqdm.pandas()\n",
    "\n",
    "#read in the worker number \n",
    "try: \n",
    "    worker_num = int(sys.argv[1])\n",
    "except: \n",
    "    worker_num = 0\n",
    "\n",
    "num_splits = 1\n",
    "data_dir = '/home/gridsan/tmackey/cdvae/data/mp_20_final_reproduction'\n",
    "\n",
    "#load in the data \n",
    "train_df = pd.read_csv(os.path.join(data_dir,'train_xrd.csv'))\n",
    "test_df = pd.read_csv(os.path.join(data_dir, 'test_xrd.csv'))\n",
    "#train and test commented out for testing purposes\n",
    "val_df = pd.read_csv(os.path.join(data_dir, 'val_xrd.csv'))\n",
    "\n",
    "#let's pull out the diffraction patterns ahead of time \n",
    "def simulate_xrd(peak_locations, peak_intensities, lower_bound = 5, upper_bound = 75, dimensions = 200):\n",
    "    interval =  (upper_bound - lower_bound)/dimensions\n",
    "    sim_positions = np.arange(lower_bound, upper_bound, interval)\n",
    "    # Create an empty intensity array for the simulation\n",
    "    sim_intensities = np.zeros_like(sim_positions)\n",
    "    \n",
    "    # Loop over all simulated positions\n",
    "    for i, pos in enumerate(sim_positions):\n",
    "        # Find peak locations within 0.25° of the current simulated position\n",
    "        close_peaks = [(loc, intensity) for loc, intensity in zip(peak_locations, peak_intensities) if abs(loc - pos) <= interval/2]\n",
    "        \n",
    "        # If there are close peaks, sum the intensities among those peaks\n",
    "        if close_peaks:\n",
    "            intensities = np.array([intensity for loc, intensity in close_peaks])\n",
    "            sim_intensities[i] = np.sum(intensities)\n",
    "    \n",
    "    sim_intensities = 100*sim_intensities / max(sim_intensities)\n",
    "    \n",
    "    return sim_intensities\n",
    "\n",
    "data_frames = {\"train\": train_df, \"test\": test_df, \"val\": val_df}\n",
    "\n",
    "worker_dir = os.path.join(data_dir, \"worker_data\")\n",
    "os.makedirs(worker_dir, exist_ok=True)\n",
    "\n",
    "for name, df in data_frames.items():\n",
    "    \n",
    "    chunk_size = np.ceil(len(df)/num_splits)\n",
    "    \n",
    "    start_index = int(worker_num*chunk_size)\n",
    "    end_index = int(min(start_index + chunk_size, len(df))) #prevents end index > len(df)\n",
    "    sub_df = df.iloc[start_index:end_index].copy()\n",
    "\n",
    "    sub_df['xrd_peak_locations'] = sub_df['xrd_peak_locations'].progress_apply(ast.literal_eval)\n",
    "    sub_df['xrd_peak_intensities'] = sub_df['xrd_peak_intensities'].progress_apply(ast.literal_eval)\n",
    "    sub_df['disc_sim_xrd'] = sub_df.progress_apply(lambda row: simulate_xrd(row['xrd_peak_locations'], row['xrd_peak_intensities']), axis=1)    \n",
    "\n",
    "    #save\n",
    "    sub_df.to_csv(os.path.join(worker_dir, f'{name}_xrd_disc_sim_{worker_num}.csv'), index=False)"
   ]
  },
  {
   "cell_type": "markdown",
   "id": "5e8e02d7",
   "metadata": {},
   "source": [
    "merge"
   ]
  },
  {
   "cell_type": "code",
   "execution_count": 46,
   "id": "1699354f",
   "metadata": {},
   "outputs": [
    {
     "name": "stderr",
     "output_type": "stream",
     "text": [
      "100%|██████████| 1/1 [00:00<00:00, 24.50it/s]\n"
     ]
    },
    {
     "name": "stdout",
     "output_type": "stream",
     "text": [
      "Saved train dataset\n"
     ]
    },
    {
     "name": "stderr",
     "output_type": "stream",
     "text": [
      "100%|██████████| 1/1 [00:00<00:00, 101.32it/s]\n"
     ]
    },
    {
     "name": "stdout",
     "output_type": "stream",
     "text": [
      "Saved test dataset\n"
     ]
    },
    {
     "name": "stderr",
     "output_type": "stream",
     "text": [
      "100%|██████████| 1/1 [00:00<00:00, 129.68it/s]"
     ]
    },
    {
     "name": "stdout",
     "output_type": "stream",
     "text": [
      "Saved val dataset\n"
     ]
    },
    {
     "name": "stderr",
     "output_type": "stream",
     "text": [
      "\n"
     ]
    }
   ],
   "source": [
    "import pandas as pd\n",
    "import numpy as np\n",
    "from tqdm import tqdm\n",
    "import os \n",
    "#assuming all of the data was stored as .pt dictionaries of string keys and graph values\n",
    "num_workers = 1\n",
    "dataset_names =  ['train', 'test', 'val']\n",
    "data_dir = \"/home/gridsan/tmackey/cdvae/data/mp_20_final_reproduction\"\n",
    "worker_dir = \"/home/gridsan/tmackey/cdvae/data/mp_20_final_reproduction/worker_data\"\n",
    "\n",
    "for name in dataset_names:\n",
    "    total_df = pd.DataFrame()\n",
    "    for worker_num in tqdm(range(num_workers)):\n",
    "        df = pd.read_csv(os.path.join(worker_dir, f'{name}_xrd_disc_sim_{worker_num}.csv'))\n",
    "        # print(len(df))\n",
    "        #add df without using append\n",
    "        total_df = pd.concat([total_df, df])\n",
    "    output_filepath = os.path.join(data_dir, f'{name}_xrd_disc_sim.csv')\n",
    "    total_df.to_csv(output_filepath, index=False)\n",
    "    print(f\"Saved {name} dataset\")"
   ]
  },
  {
   "cell_type": "markdown",
   "id": "6402da91",
   "metadata": {},
   "source": [
    "Step 3: graph data "
   ]
  },
  {
   "cell_type": "code",
   "execution_count": 47,
   "id": "1a5c57f8",
   "metadata": {},
   "outputs": [
    {
     "data": {
      "application/vnd.jupyter.widget-view+json": {
       "model_id": "693d4d4c7bdf4975bf75613a64dd1135",
       "version_major": 2,
       "version_minor": 0
      },
      "text/plain": [
       "  0%|          | 0/361 [00:00<?, ?it/s]"
      ]
     },
     "metadata": {},
     "output_type": "display_data"
    },
    {
     "name": "stderr",
     "output_type": "stream",
     "text": [
      "/home/gridsan/tmackey/.conda/envs/cdvae/lib/python3.8/site-packages/pymatgen/io/cif.py:1168: UserWarning: Issues encountered while parsing CIF: Some fractional coordinates rounded to ideal values to avoid issues with finite precision.\n",
      "  warnings.warn(\"Issues encountered while parsing CIF: \" + \"\\n\".join(self.warnings))\n"
     ]
    },
    {
     "data": {
      "application/vnd.jupyter.widget-view+json": {
       "model_id": "a7d5f7468ca2433e95ff064c777c64d0",
       "version_major": 2,
       "version_minor": 0
      },
      "text/plain": [
       "  0%|          | 0/361 [00:00<?, ?it/s]"
      ]
     },
     "metadata": {},
     "output_type": "display_data"
    },
    {
     "name": "stdout",
     "output_type": "stream",
     "text": [
      "Saved train_0.pt\n"
     ]
    },
    {
     "data": {
      "application/vnd.jupyter.widget-view+json": {
       "model_id": "c4fec9d0e21941a19e01e55df2b5def5",
       "version_major": 2,
       "version_minor": 0
      },
      "text/plain": [
       "  0%|          | 0/46 [00:00<?, ?it/s]"
      ]
     },
     "metadata": {},
     "output_type": "display_data"
    },
    {
     "name": "stderr",
     "output_type": "stream",
     "text": [
      "/home/gridsan/tmackey/.conda/envs/cdvae/lib/python3.8/site-packages/pymatgen/io/cif.py:1168: UserWarning: Issues encountered while parsing CIF: Some fractional coordinates rounded to ideal values to avoid issues with finite precision.\n",
      "  warnings.warn(\"Issues encountered while parsing CIF: \" + \"\\n\".join(self.warnings))\n"
     ]
    },
    {
     "data": {
      "application/vnd.jupyter.widget-view+json": {
       "model_id": "cfaf7cf3ab524b00bfe4743db672326e",
       "version_major": 2,
       "version_minor": 0
      },
      "text/plain": [
       "  0%|          | 0/46 [00:00<?, ?it/s]"
      ]
     },
     "metadata": {},
     "output_type": "display_data"
    },
    {
     "name": "stdout",
     "output_type": "stream",
     "text": [
      "Saved test_0.pt\n"
     ]
    },
    {
     "data": {
      "application/vnd.jupyter.widget-view+json": {
       "model_id": "204b58bd631845d789720133e25837b2",
       "version_major": 2,
       "version_minor": 0
      },
      "text/plain": [
       "  0%|          | 0/46 [00:00<?, ?it/s]"
      ]
     },
     "metadata": {},
     "output_type": "display_data"
    },
    {
     "name": "stderr",
     "output_type": "stream",
     "text": [
      "/home/gridsan/tmackey/.conda/envs/cdvae/lib/python3.8/site-packages/pymatgen/io/cif.py:1168: UserWarning: Issues encountered while parsing CIF: Some fractional coordinates rounded to ideal values to avoid issues with finite precision.\n",
      "  warnings.warn(\"Issues encountered while parsing CIF: \" + \"\\n\".join(self.warnings))\n"
     ]
    },
    {
     "data": {
      "application/vnd.jupyter.widget-view+json": {
       "model_id": "7445a669dbaa414a9788dcbdf0a0ca25",
       "version_major": 2,
       "version_minor": 0
      },
      "text/plain": [
       "  0%|          | 0/46 [00:00<?, ?it/s]"
      ]
     },
     "metadata": {},
     "output_type": "display_data"
    },
    {
     "name": "stdout",
     "output_type": "stream",
     "text": [
      "Saved val_0.pt\n"
     ]
    }
   ],
   "source": [
    "import numpy as np\n",
    "import pandas as pd\n",
    "import networkx as nx\n",
    "import torch\n",
    "import copy\n",
    "import itertools\n",
    "\n",
    "from pymatgen.core.structure import Structure\n",
    "from pymatgen.core.lattice import Lattice\n",
    "from pymatgen.analysis.graphs import StructureGraph\n",
    "from pymatgen.analysis import local_env\n",
    "\n",
    "from networkx.algorithms.components import is_connected\n",
    "\n",
    "from sklearn.metrics import accuracy_score, recall_score, precision_score\n",
    "\n",
    "from torch_scatter import scatter\n",
    "\n",
    "from p_tqdm import p_umap\n",
    "\n",
    "import ast\n",
    "#import the random function library\n",
    "import random\n",
    "\n",
    "import os \n",
    "\n",
    "from tqdm.auto import tqdm\n",
    "tqdm.pandas()\n",
    "\n",
    "CrystalNN = local_env.CrystalNN(\n",
    "    distance_cutoffs=None, x_diff_weight=-1, porous_adjustment=False)\n",
    "\n",
    "from cdvae.common.data_utils import * \n",
    "\n",
    "import sys\n",
    "\n",
    "#read in the worker number \n",
    "try: \n",
    "    worker_num = int(sys.argv[1])\n",
    "except: \n",
    "    worker_num = 0\n",
    "\n",
    "#read in the number of splits\n",
    "try:\n",
    "    num_splits = int(sys.argv[2])\n",
    "except:\n",
    "    num_splits = 1\n",
    "\n",
    "data_dir = '/home/gridsan/tmackey/cdvae/data/mp_20_final_reproduction'\n",
    "\n",
    "#load in the data \n",
    "train_df = pd.read_csv(os.path.join(data_dir, 'train_xrd.csv'))\n",
    "test_df = pd.read_csv(os.path.join(data_dir, 'test_xrd.csv'))\n",
    "val_df = pd.read_csv(os.path.join(data_dir, 'val_xrd.csv'))\n",
    "\n",
    "def build_crystal(crystal_str, niggli=True, primitive=False):\n",
    "    try: \n",
    "        \"\"\"Build crystal from cif string.\"\"\"\n",
    "        crystal = Structure.from_str(crystal_str, fmt='cif')\n",
    "\n",
    "        if primitive:\n",
    "            crystal = crystal.get_primitive_structure()\n",
    "\n",
    "        if niggli:\n",
    "            crystal = crystal.get_reduced_structure()\n",
    "\n",
    "        canonical_crystal = Structure(\n",
    "            lattice=Lattice.from_parameters(*crystal.lattice.parameters),\n",
    "            species=crystal.species,\n",
    "            coords=crystal.frac_coords,\n",
    "            coords_are_cartesian=False,\n",
    "        )\n",
    "        # match is gaurantteed because cif only uses lattice params & frac_coords\n",
    "        # assert canonical_crystal.matches(crystal)\n",
    "        return canonical_crystal\n",
    "    except: \n",
    "        return None \n",
    "\n",
    "def build_crystal_graph(crystal, graph_method='crystalnn'):\n",
    "    try: \n",
    "        \"\"\"\n",
    "        \"\"\"\n",
    "\n",
    "        if graph_method == 'crystalnn':\n",
    "            crystal_graph = StructureGraph.with_local_env_strategy(\n",
    "                crystal, CrystalNN)\n",
    "        elif graph_method == 'none':\n",
    "            pass\n",
    "        else:\n",
    "            raise NotImplementedError\n",
    "\n",
    "        frac_coords = crystal.frac_coords\n",
    "        atom_types = crystal.atomic_numbers\n",
    "        lattice_parameters = crystal.lattice.parameters\n",
    "        lengths = lattice_parameters[:3]\n",
    "        angles = lattice_parameters[3:]\n",
    "\n",
    "        assert np.allclose(crystal.lattice.matrix,\n",
    "                        lattice_params_to_matrix(*lengths, *angles))\n",
    "\n",
    "        edge_indices, to_jimages = [], []\n",
    "        if graph_method != 'none':\n",
    "            for i, j, to_jimage in crystal_graph.graph.edges(data='to_jimage'):\n",
    "                edge_indices.append([j, i])\n",
    "                to_jimages.append(to_jimage)\n",
    "                edge_indices.append([i, j])\n",
    "                to_jimages.append(tuple(-tj for tj in to_jimage))\n",
    "\n",
    "        atom_types = np.array(atom_types)\n",
    "        lengths, angles = np.array(lengths), np.array(angles)\n",
    "        edge_indices = np.array(edge_indices)\n",
    "        to_jimages = np.array(to_jimages)\n",
    "        num_atoms = atom_types.shape[0]\n",
    "\n",
    "        return frac_coords, atom_types, lengths, angles, edge_indices, to_jimages, num_atoms\n",
    "    except: \n",
    "        return None\n",
    "    \n",
    "data_frames = {\"train\": train_df, \"test\": test_df, \"val\": val_df}\n",
    "worker_dir = os.path.join(data_dir, \"worker_dir\")\n",
    "os.makedirs(worker_dir, exist_ok=True)\n",
    "\n",
    "for name, df in data_frames.items():\n",
    "    \n",
    "    chunk_size = np.ceil(len(df)/num_splits)\n",
    "    \n",
    "    start_index = int(worker_num*chunk_size)\n",
    "    end_index = int(min(start_index + chunk_size, len(df))) #prevents end index > len(df)\n",
    "    sub_df = df.iloc[start_index:end_index].copy()\n",
    "    sub_crystals = sub_df['cif'].progress_apply(build_crystal)\n",
    "    sub_graphs = sub_crystals.progress_apply(build_crystal_graph)\n",
    "\n",
    "    materials_ids = sub_df['material_id'].values\n",
    "\n",
    "    #make a dictionary using the materials_ids as keys and the graphs as values\n",
    "    graph_dict = dict(zip(materials_ids, sub_graphs))\n",
    "\n",
    "    #save the dictionary to a file\n",
    "    torch.save(graph_dict, os.path.join(worker_dir, '{}_{}.pt'.format(name, worker_num)))\n",
    "    \n",
    "    print('Saved {}_{}.pt'.format(name, worker_num))"
   ]
  },
  {
   "cell_type": "markdown",
   "id": "c4d03913",
   "metadata": {},
   "source": [
    "Merging "
   ]
  },
  {
   "cell_type": "code",
   "execution_count": 48,
   "id": "472e74ac",
   "metadata": {},
   "outputs": [
    {
     "name": "stderr",
     "output_type": "stream",
     "text": [
      "100%|██████████| 1/1 [00:00<00:00, 47.85it/s]\n"
     ]
    },
    {
     "name": "stdout",
     "output_type": "stream",
     "text": [
      "Saved train.pt\n"
     ]
    },
    {
     "name": "stderr",
     "output_type": "stream",
     "text": [
      "100%|██████████| 1/1 [00:00<00:00, 236.25it/s]\n"
     ]
    },
    {
     "name": "stdout",
     "output_type": "stream",
     "text": [
      "Saved test.pt\n"
     ]
    },
    {
     "name": "stderr",
     "output_type": "stream",
     "text": [
      "100%|██████████| 1/1 [00:00<00:00, 344.81it/s]"
     ]
    },
    {
     "name": "stdout",
     "output_type": "stream",
     "text": [
      "Saved val.pt\n"
     ]
    },
    {
     "name": "stderr",
     "output_type": "stream",
     "text": [
      "\n"
     ]
    }
   ],
   "source": [
    "import numpy as np\n",
    "import torch \n",
    "from tqdm import tqdm\n",
    "\n",
    "#assuming all of the data was stored as .pt dictionaries of string keys and graph values\n",
    "num_workers = 1 \n",
    "dataset_names =  ['train', 'test', 'val']\n",
    "\n",
    "data_dir = '/home/gridsan/tmackey/cdvae/data/mp_20_final_reproduction'\n",
    "worker_dir = os.path.join(data_dir, \"worker_dir\")\n",
    "\n",
    "for name in dataset_names:\n",
    "    total_dict = {}\n",
    "    for worker_num in tqdm(range(num_workers)):\n",
    "        chunk = torch.load(os.path.join(worker_dir, '{}_{}.pt'.format(name, worker_num)))\n",
    "        total_dict.update(chunk)\n",
    "    torch.save(total_dict, os.path.join(data_dir, '{}.pt'.format(name)))\n",
    "    print('Saved {}.pt'.format(name))"
   ]
  },
  {
   "cell_type": "markdown",
   "id": "800f63b1",
   "metadata": {},
   "source": [
    "Step 4: Generate the pseudo-voights. This notebook will be for the non-augmented data, so we will leave out the other possible peak shapes"
   ]
  },
  {
   "cell_type": "code",
   "execution_count": 49,
   "id": "66cf6214",
   "metadata": {},
   "outputs": [
    {
     "name": "stderr",
     "output_type": "stream",
     "text": [
      "usage: ipykernel_launcher.py [-h] [--n_workers N_WORKERS]\n",
      "                             [--worker_num WORKER_NUM]\n",
      "ipykernel_launcher.py: error: unrecognized arguments: --f=/home/gridsan/tmackey/.local/share/jupyter/runtime/kernel-v2-462923D42I3jTDTs7d.json\n"
     ]
    },
    {
     "name": "stdout",
     "output_type": "stream",
     "text": [
      "Worker 0 processing 361 rows\n",
      "start index: 0 end index: None\n",
      "Saved to /home/gridsan/tmackey/cdvae/data/mp_20_final_reproduction/worker_dir/train_sim_pv_xrd_intensities_0_worker_0.pt\n",
      "Worker 0 processing 46 rows\n",
      "start index: 0 end index: None\n",
      "Saved to /home/gridsan/tmackey/cdvae/data/mp_20_final_reproduction/worker_dir/val_sim_pv_xrd_intensities_0_worker_0.pt\n",
      "Worker 0 processing 46 rows\n",
      "start index: 0 end index: None\n",
      "Saved to /home/gridsan/tmackey/cdvae/data/mp_20_final_reproduction/worker_dir/test_sim_pv_xrd_intensities_0_worker_0.pt\n",
      "Simulation completed for worker number: 0\n"
     ]
    }
   ],
   "source": [
    "import pandas as pd\n",
    "import numpy as np\n",
    "import argparse\n",
    "import os\n",
    "import random\n",
    "import torch\n",
    "\n",
    "try:\n",
    "    # Argument parsing\n",
    "    parser = argparse.ArgumentParser(description='Parallel XRD Simulation')\n",
    "    parser.add_argument('--n_workers', type=int, help='Total number of workers')\n",
    "    parser.add_argument('--worker_num', type=int, help='Current worker number (0-indexed)')\n",
    "    args = parser.parse_args()\n",
    "\n",
    "    n_workers = args.n_workers\n",
    "    worker_num = args.worker_num\n",
    "except:\n",
    "    n_workers = 1\n",
    "    worker_num = 0\n",
    "    \n",
    "data_dir = '/home/gridsan/tmackey/cdvae/data/mp_20_final_reproduction'\n",
    "\n",
    "train_path = os.path.join(data_dir, 'train_xrd.csv')\n",
    "val_path = os.path.join(data_dir, 'val_xrd.csv')\n",
    "test_path = os.path.join(data_dir, 'test_xrd.csv')\n",
    "\n",
    "train_df = pd.read_csv(train_path)\n",
    "val_df = pd.read_csv(val_path)\n",
    "test_df = pd.read_csv(test_path)\n",
    "\n",
    "dataframes = {'train': train_df, 'val': val_df, 'test': test_df}\n",
    "\n",
    "for name, data in dataframes.items():\n",
    "    data['xrd_peak_locations'] = data['xrd_peak_locations'].apply(\n",
    "        lambda x: [float(i) for i in x.strip('[]').split(',')]\n",
    "    )\n",
    "\n",
    "    #make sure we can read in the diffraction patterns\n",
    "    data['xrd_peak_intensities'] = data['xrd_peak_intensities'].apply(\n",
    "        lambda x: [float(i) for i in x.strip('[]').split(',')]\n",
    "    )\n",
    "\n",
    "def caglioti_fwhm(theta, U, V, W):\n",
    "    \"\"\"\n",
    "    Calculate the FWHM using the Caglioti formula.\n",
    "    theta: float, the angle in degrees\n",
    "    U, V, W: Caglioti parameters\n",
    "    \"\"\"\n",
    "    rad_theta = np.radians(theta / 2)  # Convert theta to radians\n",
    "    return (U * np.tan(rad_theta)**2 + V * np.tan(rad_theta) + W)**0.5\n",
    "\n",
    "def pseudo_voigt(x, center, amplitude, U, V, W, eta, noise_sd=0.0):\n",
    "    \"\"\"\n",
    "    Pseudo-Voigt function using Caglioti FWHM.\n",
    "    x: array-like, the independent variable\n",
    "    center: float, the center of the peak\n",
    "    amplitude: float, the height of the peak\n",
    "    U, V, W: Caglioti parameters\n",
    "    eta: float, the fraction of the Lorentzian component (0 <= eta <= 1)\n",
    "    \"\"\"\n",
    "    fwhm = caglioti_fwhm(center, U, V, W)\n",
    "    sigma = fwhm / (2 * np.sqrt(2 * np.log(2)))  # Convert FWHM to sigma for Gaussian\n",
    "    # Generate random noise from a normal distribution\n",
    "    noise = np.random.normal(0, noise_sd)\n",
    "\n",
    "    noisy_percentage = (100 + noise_sd) / 100 \n",
    "    #print(\"noisy_percentage is \", noisy_percentage)\n",
    "\n",
    "    #multiply the amplitude by the noisy percentage \n",
    "    amplitude = amplitude * noisy_percentage\n",
    "    \n",
    "    lorentzian = amplitude * (fwhm**2 / ((x - center)**2 + fwhm**2))\n",
    "    gaussian = amplitude * np.exp(-(x - center)**2 / (2 * sigma**2))\n",
    "    return eta * lorentzian + (1 - eta) * gaussian\n",
    "\n",
    "def superimposed_pseudo_voigt(x, xy_merge, U, V, W, eta, noise_sd=0.0):\n",
    "    \"\"\"\n",
    "    Superimpose multiple pseudo-Voigt functions using Caglioti FWHM.\n",
    "    x: array-like, the independent variable\n",
    "    xy_merge: nx2 array, first column is peak locations, second column is intensities\n",
    "    U, V, W: Caglioti parameters\n",
    "    eta: float, the fraction of the Lorentzian component (0 <= eta <= 1)\n",
    "    \"\"\"\n",
    "    total = np.zeros_like(x)\n",
    "    for row in xy_merge:\n",
    "        center, amplitude = row\n",
    "        total += pseudo_voigt(x, center, amplitude, U, V, W, eta, noise_sd)\n",
    "    total = total / max(total)\n",
    "    return total\n",
    "\n",
    "# Function to simulate XRD for each row\n",
    "def simulate_pv_xrd_for_row(row_tuple, U, V, W):\n",
    "    index, row = row_tuple  # Unpack the tuple\n",
    "\n",
    "    x = np.arange(5, 90, 0.010)\n",
    "    eta = 0  # Fraction of Lorentzian component (common for all peaks)\n",
    "\n",
    "    # Combine peak locations and intensities into a single array\n",
    "    xy_merge = np.column_stack((row['xrd_peak_locations'], row['xrd_peak_intensities']))\n",
    "\n",
    "    sim_xrd = superimposed_pseudo_voigt(x, xy_merge, U, V, W, eta, noise_sd=noise)\n",
    "\n",
    "    return sim_xrd\n",
    "\n",
    "def apply_simulation(data, U, V, W, worker_num, n_workers, peak_shape = 0):\n",
    "    # Split data for the current worker\n",
    "    chunk_size = len(data) // n_workers\n",
    "    start_idx = worker_num * chunk_size\n",
    "    end_idx = None if worker_num == n_workers - 1 else start_idx + chunk_size # Last worker gets the rest\n",
    "    worker_data = data.iloc[start_idx:end_idx]\n",
    "\n",
    "    print(\"Worker\", worker_num, \"processing\", len(worker_data), \"rows\")\n",
    "    print(\"start index:\", start_idx, \"end index:\", end_idx)\n",
    "\n",
    "    # Process using a list comprehension\n",
    "    results = [simulate_pv_xrd_for_row((idx, row), U, V, W) for idx, row in worker_data.iterrows()]\n",
    "    \n",
    "    #turn the list of numpy arrays into a numpy array\n",
    "    results = np.stack(results)\n",
    "\n",
    "    tensor = torch.from_numpy(results).float()\n",
    "\n",
    "    tensor = tensor.reshape(tensor.shape[0], 1, tensor.shape[1])\n",
    "\n",
    "    data_dict = {}\n",
    "    for i in range(len(worker_data)):\n",
    "        key = worker_data['material_id'].iloc[i] + \"_\" + str(peak_shape)\n",
    "        data_dict[key] = tensor[i]\n",
    "\n",
    "    return data_dict\n",
    "\n",
    "# peak_shapes = [(0.05, -0.06, 0.07), (0.05, -0.01, 0.01),\n",
    "#                    (0.0, 0.0, 0.01), (0.0, 0.0, random.uniform(0.001, 0.1))]\n",
    "noise = 0 #this noise corresponds roughly to the effects something like preferred orientation might have on the diffraction pattern. set to 0 for now\n",
    "peak_shapes = [(0.05, -0.06, 0.07)]\n",
    "\n",
    "data_dir = '/home/gridsan/tmackey/cdvae/data/mp_20_final_reproduction'\n",
    "worker_dir = os.path.join(data_dir, \"worker_dir\")\n",
    "\n",
    "for name, data in dataframes.items():\n",
    "    # Assuming peak_shapes is defined elsewhere in your code\n",
    "    for peak_shape, (U, V, W) in enumerate(peak_shapes): \n",
    "        sim_pv_xrd_intensities_dict = apply_simulation(data, U, V, W, worker_num, n_workers, peak_shape) #this going to be a n x 8192 array \n",
    "\n",
    "        # Save results as a numpy array\n",
    "        output_filename = f'{name}_sim_pv_xrd_intensities_{peak_shape}_worker_{worker_num}.pt'\n",
    "        output_filename = os.path.join(worker_dir, output_filename)\n",
    "        torch.save(sim_pv_xrd_intensities_dict, output_filename)\n",
    "        print(\"Saved to {}\".format(output_filename))\n",
    "\n",
    "print(\"Simulation completed for worker number:\", worker_num)"
   ]
  },
  {
   "cell_type": "markdown",
   "id": "d2da13b8",
   "metadata": {},
   "source": [
    "Merge"
   ]
  },
  {
   "cell_type": "code",
   "execution_count": 50,
   "id": "811f8a1e",
   "metadata": {},
   "outputs": [
    {
     "name": "stderr",
     "output_type": "stream",
     "text": [
      "100%|██████████| 1/1 [00:00<00:00, 73.34it/s]\n"
     ]
    },
    {
     "name": "stdout",
     "output_type": "stream",
     "text": [
      "Saved train dataset\n"
     ]
    },
    {
     "name": "stderr",
     "output_type": "stream",
     "text": [
      "100%|██████████| 1/1 [00:00<00:00, 263.86it/s]\n"
     ]
    },
    {
     "name": "stdout",
     "output_type": "stream",
     "text": [
      "Saved test dataset\n"
     ]
    },
    {
     "name": "stderr",
     "output_type": "stream",
     "text": [
      "100%|██████████| 1/1 [00:00<00:00, 316.79it/s]"
     ]
    },
    {
     "name": "stdout",
     "output_type": "stream",
     "text": [
      "Saved val dataset\n"
     ]
    },
    {
     "name": "stderr",
     "output_type": "stream",
     "text": [
      "\n"
     ]
    }
   ],
   "source": [
    "import pandas as pd\n",
    "import numpy as np\n",
    "from tqdm import tqdm\n",
    "import torch \n",
    "import os\n",
    "import random \n",
    "\n",
    "num_workers = 1\n",
    "dataset_names =  ['train', 'test', 'val']\n",
    "data_source = \"mp_20\"\n",
    "data_dir = f\"/home/gridsan/tmackey/cdvae/data/mp_20_final_reproduction/\" + \"worker_dir/\"\n",
    "# peak_shapes = [(0.05, -0.06, 0.07), (0.05, -0.01, 0.01),\n",
    "#                    (0.0, 0.0, 0.01), (0.0, 0.0, random.uniform(0.001, 0.1))]\n",
    "noise = 0 #no noise for now, will add it dymically during training unless there's a good reason to do otherwise\n",
    "peak_shapes = [(0.05, -0.06, 0.07)]\n",
    "\n",
    "for name in dataset_names:\n",
    "    for peak_shape, (U, V, W) in enumerate(peak_shapes):\n",
    "        total_dict = {}\n",
    "        for worker_num in tqdm(range(num_workers)):\n",
    "            subdict = torch.load(data_dir + f'{name}_sim_pv_xrd_intensities_{peak_shape}_worker_{worker_num}.pt')\n",
    "            total_dict.update(subdict)\n",
    "        output_filepath = os.path.join(data_dir, f'{name}_sim_pv_xrd_intensities_{peak_shape}.pt')\n",
    "        torch.save(total_dict, output_filepath)\n",
    "        print(f\"Saved {name} dataset\")"
   ]
  },
  {
   "cell_type": "markdown",
   "id": "ed0cbad2",
   "metadata": {},
   "source": [
    "Load in the data to double check "
   ]
  },
  {
   "cell_type": "code",
   "execution_count": 51,
   "id": "1fadf6b7",
   "metadata": {},
   "outputs": [],
   "source": [
    "import pandas as pd\n",
    "import numpy as np\n",
    "import torch\n",
    "train_dict = torch.load('/home/gridsan/tmackey/cdvae/data/mp_20_final_reproduction/worker_dir/train_sim_pv_xrd_intensities_0.pt')"
   ]
  },
  {
   "cell_type": "code",
   "execution_count": 52,
   "id": "7d58845c",
   "metadata": {},
   "outputs": [],
   "source": [
    "import matplotlib.pyplot as plt"
   ]
  },
  {
   "cell_type": "code",
   "execution_count": 53,
   "id": "a8adac59",
   "metadata": {},
   "outputs": [],
   "source": [
    "#get the first key\n",
    "key = list(train_dict.keys())[1]"
   ]
  },
  {
   "cell_type": "code",
   "execution_count": 54,
   "id": "8526fa97",
   "metadata": {},
   "outputs": [
    {
     "data": {
      "text/plain": [
       "'mp-624492_0'"
      ]
     },
     "execution_count": 54,
     "metadata": {},
     "output_type": "execute_result"
    }
   ],
   "source": [
    "key"
   ]
  },
  {
   "cell_type": "code",
   "execution_count": 55,
   "id": "5409e227",
   "metadata": {},
   "outputs": [
    {
     "data": {
      "text/plain": [
       "[<matplotlib.lines.Line2D at 0x7f9a002423d0>]"
      ]
     },
     "execution_count": 55,
     "metadata": {},
     "output_type": "execute_result"
    },
    {
     "data": {
      "image/png": "[encoded data removed]",
      "text/plain": [
       "<Figure size 640x480 with 1 Axes>"
      ]
     },
     "metadata": {},
     "output_type": "display_data"
    }
   ],
   "source": [
    "plt.plot(list(train_dict[key].numpy().flatten()))"
   ]
  },
  {
   "cell_type": "markdown",
   "id": "1a29a78c",
   "metadata": {},
   "source": [
    "Merge together the data from different peak shapes"
   ]
  },
  {
   "cell_type": "code",
   "execution_count": 70,
   "id": "3a8e9763",
   "metadata": {},
   "outputs": [
    {
     "name": "stderr",
     "output_type": "stream",
     "text": [
      "100%|██████████| 1/1 [00:00<00:00, 60.83it/s]\n"
     ]
    },
    {
     "name": "stdout",
     "output_type": "stream",
     "text": [
      "total_dict length 361\n",
      "Saved train dataset\n"
     ]
    },
    {
     "name": "stderr",
     "output_type": "stream",
     "text": [
      "100%|██████████| 1/1 [00:00<00:00, 285.62it/s]\n"
     ]
    },
    {
     "name": "stdout",
     "output_type": "stream",
     "text": [
      "total_dict length 46\n",
      "Saved test dataset\n"
     ]
    },
    {
     "name": "stderr",
     "output_type": "stream",
     "text": [
      "100%|██████████| 1/1 [00:00<00:00, 300.99it/s]"
     ]
    },
    {
     "name": "stdout",
     "output_type": "stream",
     "text": [
      "total_dict length 46\n",
      "Saved val dataset\n"
     ]
    },
    {
     "name": "stderr",
     "output_type": "stream",
     "text": [
      "\n"
     ]
    }
   ],
   "source": [
    "import pandas as pd\n",
    "import numpy as np\n",
    "from tqdm import tqdm\n",
    "import torch \n",
    "import os\n",
    "import random \n",
    "\n",
    "num_workers = 1\n",
    "dataset_names =  ['train', 'test', 'val']\n",
    "data_source = \"mp_20\"\n",
    "data_dir = '/home/gridsan/tmackey/cdvae/data/mp_20_final_reproduction/'\n",
    "# peak_shapes = [(0.05, -0.06, 0.07), (0.05, -0.01, 0.01),\n",
    "#                    (0.0, 0.0, 0.01), (0.0, 0.0, random.uniform(0.001, 0.1))]\n",
    "noise = 0 #no noise for now, will add it dymically during training unless there's a good reason to do otherwise\n",
    "peak_shapes = [(0.05, -0.06, 0.07)]\n",
    "\n",
    "for name in dataset_names:\n",
    "    total_dict = {}\n",
    "    for peak_shape, (U, V, W) in enumerate(peak_shapes):\n",
    "        for worker_num in tqdm(range(num_workers)):\n",
    "            subdict = torch.load(data_dir + 'worker_dir/' + f'{name}_sim_pv_xrd_intensities_{peak_shape}_worker_{worker_num}.pt')\n",
    "            total_dict.update(subdict)\n",
    "    print(\"total_dict length\", len(total_dict))\n",
    "    output_filepath = os.path.join(data_dir, f'{name}_pv_xrd.pt')\n",
    "    torch.save(total_dict, output_filepath)\n",
    "    print(f\"Saved {name} dataset\")"
   ]
  }
 ],
 "metadata": {
  "kernelspec": {
   "display_name": "cdvae",
   "language": "python",
   "name": "python3"
  },
  "language_info": {
   "codemirror_mode": {
    "name": "ipython",
    "version": 3
   },
   "file_extension": ".py",
   "mimetype": "text/x-python",
   "name": "python",
   "nbconvert_exporter": "python",
   "pygments_lexer": "ipython3",
   "version": "3.8.17"
  }
 },
 "nbformat": 4,
 "nbformat_minor": 5
}
