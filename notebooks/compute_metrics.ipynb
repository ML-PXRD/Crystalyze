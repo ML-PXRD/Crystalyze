{
 "cells": [
  {
   "cell_type": "markdown",
   "metadata": {},
   "source": [
    "### README\n",
    "\n",
    " Note: this code works as a standalone notebook but can also be modified to distribute the calculations over multiple cpus. The distributed code as private since it is largely system specific but please reach out if you have any questions!"
   ]
  },
  {
   "cell_type": "code",
   "execution_count": 1,
   "metadata": {},
   "outputs": [],
   "source": [
    "import sys\n",
    "\n",
    "import os\n",
    "import torch\n",
    "import numpy as np\n",
    "\n",
    "import math\n",
    "\n",
    "import sys\n",
    "sys.path.append(\"../\")\n",
    "from scripts import eval_utils"
   ]
  },
  {
   "cell_type": "code",
   "execution_count": 7,
   "metadata": {},
   "outputs": [],
   "source": [
    "worker_num = 0\n",
    "num_splits = 100\n",
    "model_path = '/home/gridsan/tmackey/hydra/singlerun/2024-01-29/vae_nopf'\n",
    "label = 'full_set_4_evals'\n",
    "num_evals = 4"
   ]
  },
  {
   "cell_type": "code",
   "execution_count": 8,
   "metadata": {},
   "outputs": [
    {
     "name": "stderr",
     "output_type": "stream",
     "text": [
      "100%|██████████| 4/4 [00:00<00:00,  6.09it/s]\n"
     ]
    }
   ],
   "source": [
    "recon_file_path = eval_utils.get_file_paths(model_path, 'recon',label=label)\n",
    "all_results, all_gt = eval_utils.all_results_retreival(recon_file_path, num_evals, label = label)"
   ]
  },
  {
   "cell_type": "code",
   "execution_count": 9,
   "metadata": {},
   "outputs": [
    {
     "name": "stdout",
     "output_type": "stream",
     "text": [
      "Split size:  46\n"
     ]
    }
   ],
   "source": [
    "split_size = math.ceil(len(all_results[0]) / num_splits)\n",
    "print('Split size: ', split_size)"
   ]
  },
  {
   "cell_type": "code",
   "execution_count": 10,
   "metadata": {},
   "outputs": [
    {
     "name": "stdout",
     "output_type": "stream",
     "text": [
      "range:  0 46\n"
     ]
    }
   ],
   "source": [
    "print(\"range: \", worker_num*split_size, (worker_num+1)*split_size)\n",
    "\n",
    "# get the results for the workers range across the batches \n",
    "all_results = [all_results[i][worker_num*split_size:(worker_num+1)*split_size] for i in range(num_evals)]\n",
    "all_gt = [all_gt[i][worker_num*split_size:(worker_num+1)*split_size] for i in range(num_evals)]\n",
    "\n",
    "# all_results should have dimensions num_evals x range\n",
    "# all_gt should have dimensions num_evals x range"
   ]
  },
  {
   "cell_type": "code",
   "execution_count": 11,
   "metadata": {},
   "outputs": [
    {
     "name": "stderr",
     "output_type": "stream",
     "text": [
      "100%|██████████| 4/4 [00:02<00:00,  1.38it/s]\n"
     ]
    }
   ],
   "source": [
    "fs_total_rmsd, _ = eval_utils.evaluation(all_results, all_gt, num_evals = num_evals) "
   ]
  },
  {
   "cell_type": "code",
   "execution_count": 12,
   "metadata": {},
   "outputs": [],
   "source": [
    "ltol_values = [0.01, 0.05, 0.1, 0.2, 0.3]\n",
    "angle_tol_values = [0.5, 1.0, 5.0, 10.0]"
   ]
  },
  {
   "cell_type": "code",
   "execution_count": 13,
   "metadata": {},
   "outputs": [
    {
     "name": "stderr",
     "output_type": "stream",
     "text": [
      "100%|██████████| 4/4 [00:01<00:00,  2.46it/s]\n",
      "100%|██████████| 4/4 [00:02<00:00,  1.50it/s]\n",
      "100%|██████████| 4/4 [00:02<00:00,  1.35it/s]\n",
      "100%|██████████| 4/4 [00:03<00:00,  1.26it/s]\n",
      "100%|██████████| 4/4 [00:02<00:00,  1.41it/s]\n",
      "100%|██████████| 5/5 [00:13<00:00,  2.66s/it]\n",
      "100%|██████████| 4/4 [00:01<00:00,  3.06it/s]\n",
      "100%|██████████| 4/4 [00:01<00:00,  2.34it/s]\n",
      "100%|██████████| 4/4 [00:02<00:00,  1.38it/s]\n",
      "100%|██████████| 4/4 [00:02<00:00,  1.39it/s]\n",
      "100%|██████████| 4/4 [00:08<00:00,  2.20s/it]\n"
     ]
    }
   ],
   "source": [
    "evals_per_ltol, evals_per_angle_tol = eval_utils.tolerance_analysis(all_results, all_gt, ltol_values, angle_tol_values, num_evals)"
   ]
  },
  {
   "cell_type": "code",
   "execution_count": 14,
   "metadata": {},
   "outputs": [],
   "source": [
    "#make a custom filename for the results that looks like worker<worker_num> \n",
    "filename = \"worker\" + \"_\" + str(worker_num)\n",
    "\n",
    "#make a directory inside of the model path folder to store the results\n",
    "new_dir = model_path + \"/\" + label + \"_reproduction\"\n",
    "if not os.path.exists(new_dir):\n",
    "    os.makedirs(new_dir)\n",
    "\n",
    "# Define a dictionary to hold the variable references and their corresponding suffixes for filenames\n",
    "file_suffixes = {\n",
    "    \"fs_total_rmsd\": \"_fs_total_rmsd.npy\",\n",
    "    \"evals_per_ltol\": \"_evals_per_ltol.npy\",\n",
    "    \"evals_per_angle_tol\": \"_evals_per_angle_tol.npy\",\n",
    "}\n",
    "\n",
    "# Loop through the dictionary, convert arrays to float and save them\n",
    "for var_name, suffix in file_suffixes.items():\n",
    "    # Dynamically access the variable using globals() and convert to float\n",
    "    globals()[var_name] = globals()[var_name].astype(float)\n",
    "    \n",
    "    # Construct the filename and save the array\n",
    "    new_filename = f\"{new_dir}/{filename}{suffix}\"\n",
    "    np.save(new_filename, globals()[var_name])"
   ]
  }
 ],
 "metadata": {
  "kernelspec": {
   "display_name": "cdvae",
   "language": "python",
   "name": "python3"
  },
  "language_info": {
   "codemirror_mode": {
    "name": "ipython",
    "version": 3
   },
   "file_extension": ".py",
   "mimetype": "text/x-python",
   "name": "python",
   "nbconvert_exporter": "python",
   "pygments_lexer": "ipython3",
   "version": "undefined.undefined.undefined"
  }
 },
 "nbformat": 4,
 "nbformat_minor": 2
}
