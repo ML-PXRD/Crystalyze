{
 "cells": [
  {
   "cell_type": "markdown",
   "id": "4cae0011",
   "metadata": {},
   "source": [
    "Everything up to the pseudo-voights is the same as for the non-augmented data, so we can just copy all the files from the non-augmented data to the file and continue from there."
   ]
  },
  {
   "cell_type": "markdown",
   "id": "800f63b1",
   "metadata": {},
   "source": [
    "Generate the pseudo-voights. This notebook will be for augmented data, so we will consider a variety of peak shapes"
   ]
  },
  {
   "cell_type": "code",
   "execution_count": 1,
   "id": "66cf6214",
   "metadata": {},
   "outputs": [
    {
     "name": "stderr",
     "output_type": "stream",
     "text": [
      "usage: ipykernel_launcher.py [-h] [--n_workers N_WORKERS]\n",
      "                             [--worker_num WORKER_NUM]\n",
      "ipykernel_launcher.py: error: unrecognized arguments: --f=/home/gridsan/tmackey/.local/share/jupyter/runtime/kernel-v2-4629230ADcXjLpxqRR.json\n"
     ]
    },
    {
     "name": "stdout",
     "output_type": "stream",
     "text": [
      "Worker 0 processing 360 rows\n",
      "start index: 0 end index: 360\n",
      "Saved to /home/gridsan/tmackey/cdvae/data/mp_20_final_augmented_reproduction/train_sim_pv_xrd_intensities_0_worker_0.pt\n",
      "Worker 0 processing 360 rows\n",
      "start index: 0 end index: 360\n",
      "Saved to /home/gridsan/tmackey/cdvae/data/mp_20_final_augmented_reproduction/train_sim_pv_xrd_intensities_1_worker_0.pt\n",
      "Worker 0 processing 360 rows\n",
      "start index: 0 end index: 360\n",
      "Saved to /home/gridsan/tmackey/cdvae/data/mp_20_final_augmented_reproduction/train_sim_pv_xrd_intensities_2_worker_0.pt\n",
      "Worker 0 processing 360 rows\n",
      "start index: 0 end index: 360\n",
      "Saved to /home/gridsan/tmackey/cdvae/data/mp_20_final_augmented_reproduction/train_sim_pv_xrd_intensities_3_worker_0.pt\n",
      "Worker 0 processing 45 rows\n",
      "start index: 0 end index: 45\n",
      "Saved to /home/gridsan/tmackey/cdvae/data/mp_20_final_augmented_reproduction/val_sim_pv_xrd_intensities_0_worker_0.pt\n",
      "Worker 0 processing 45 rows\n",
      "start index: 0 end index: 45\n",
      "Saved to /home/gridsan/tmackey/cdvae/data/mp_20_final_augmented_reproduction/val_sim_pv_xrd_intensities_1_worker_0.pt\n",
      "Worker 0 processing 45 rows\n",
      "start index: 0 end index: 45\n",
      "Saved to /home/gridsan/tmackey/cdvae/data/mp_20_final_augmented_reproduction/val_sim_pv_xrd_intensities_2_worker_0.pt\n",
      "Worker 0 processing 45 rows\n",
      "start index: 0 end index: 45\n",
      "Saved to /home/gridsan/tmackey/cdvae/data/mp_20_final_augmented_reproduction/val_sim_pv_xrd_intensities_3_worker_0.pt\n",
      "Worker 0 processing 45 rows\n",
      "start index: 0 end index: 45\n",
      "Saved to /home/gridsan/tmackey/cdvae/data/mp_20_final_augmented_reproduction/test_sim_pv_xrd_intensities_0_worker_0.pt\n",
      "Worker 0 processing 45 rows\n",
      "start index: 0 end index: 45\n",
      "Saved to /home/gridsan/tmackey/cdvae/data/mp_20_final_augmented_reproduction/test_sim_pv_xrd_intensities_1_worker_0.pt\n",
      "Worker 0 processing 45 rows\n",
      "start index: 0 end index: 45\n",
      "Saved to /home/gridsan/tmackey/cdvae/data/mp_20_final_augmented_reproduction/test_sim_pv_xrd_intensities_2_worker_0.pt\n",
      "Worker 0 processing 45 rows\n",
      "start index: 0 end index: 45\n",
      "Saved to /home/gridsan/tmackey/cdvae/data/mp_20_final_augmented_reproduction/test_sim_pv_xrd_intensities_3_worker_0.pt\n",
      "Simulation completed for worker number: 0\n"
     ]
    }
   ],
   "source": [
    "import pandas as pd\n",
    "import numpy as np\n",
    "import argparse\n",
    "import os\n",
    "import random\n",
    "import torch\n",
    "import scipy.stats as stats\n",
    "\n",
    "try:\n",
    "    # Argument parsing\n",
    "    parser = argparse.ArgumentParser(description='Parallel XRD Simulation')\n",
    "    parser.add_argument('--n_workers', type=int, help='Total number of workers')\n",
    "    parser.add_argument('--worker_num', type=int, help='Current worker number (0-indexed)')\n",
    "    args = parser.parse_args()\n",
    "\n",
    "    n_workers = args.n_workers\n",
    "    worker_num = args.worker_num\n",
    "except:\n",
    "    n_workers = 100\n",
    "    worker_num = 0\n",
    "    \n",
    "data_dir = '/home/gridsan/tmackey/cdvae/data/mp_20_final_augmented_reproduction/'\n",
    "\n",
    "train_path = os.path.join(data_dir, 'train.csv')\n",
    "val_path = os.path.join(data_dir, 'val.csv')\n",
    "test_path = os.path.join(data_dir, 'test.csv')\n",
    "\n",
    "train_df = pd.read_csv(train_path)\n",
    "val_df = pd.read_csv(val_path)\n",
    "test_df = pd.read_csv(test_path)\n",
    "\n",
    "dataframes = {'train': train_df, 'val': val_df, 'test': test_df}\n",
    "\n",
    "for name, data in dataframes.items():\n",
    "    data['xrd_peak_locations'] = data['xrd_peak_locations'].apply(\n",
    "        lambda x: [float(i) for i in x.strip('[]').split(',')]\n",
    "    )\n",
    "\n",
    "    #make sure we can read in the diffraction patterns\n",
    "    data['xrd_peak_intensities'] = data['xrd_peak_intensities'].apply(\n",
    "        lambda x: [float(i) for i in x.strip('[]').split(',')]\n",
    "    )\n",
    "\n",
    "def caglioti_fwhm(theta, U, V, W):\n",
    "    \"\"\"\n",
    "    Calculate the FWHM using the Caglioti formula.\n",
    "    theta: float, the angle in degrees\n",
    "    U, V, W: Caglioti parameters\n",
    "    \"\"\"\n",
    "    rad_theta = np.radians(theta / 2)  # Convert theta to radians\n",
    "    return (U * np.tan(rad_theta)**2 + V * np.tan(rad_theta) + W)**0.5\n",
    "\n",
    "def pseudo_voigt(x, center, amplitude, U, V, W, eta, alpha, loc, scale, pref_or_noise = False):\n",
    "    \"\"\"\n",
    "    Pseudo-Voigt function using Caglioti FWHM.\n",
    "    x: array-like, the independent variable\n",
    "    center: float, the center of the peak\n",
    "    amplitude: float, the height of the peak\n",
    "    U, V, W: Caglioti parameters\n",
    "    eta: float, the fraction of the Lorentzian component (0 <= eta <= 1)\n",
    "    \"\"\"\n",
    "    fwhm = caglioti_fwhm(center, U, V, W)\n",
    "    sigma = fwhm / (2 * np.sqrt(2 * np.log(2)))  # Convert FWHM to sigma for Gaussian\n",
    "\n",
    "    if pref_or_noise:\n",
    "        # Generate random noise from a gamma distribution\n",
    "        gamma_samples = stats.gamma.rvs(a=alpha, loc=loc, scale=scale)\n",
    "\n",
    "        #multiply the amplitude by the gamma samples to simulate the effects of preferred orientation\n",
    "        amplitude = amplitude * gamma_samples\n",
    "    \n",
    "    lorentzian = amplitude * (fwhm**2 / ((x - center)**2 + fwhm**2))\n",
    "    gaussian = amplitude * np.exp(-(x - center)**2 / (2 * sigma**2))\n",
    "\n",
    "    return eta * lorentzian + (1 - eta) * gaussian\n",
    "\n",
    "def superimposed_pseudo_voigt(x, xy_merge, U, V, W, eta, alpha, loc, scale, pref_or_noise = False):\n",
    "    \"\"\"\n",
    "    Superimpose multiple pseudo-Voigt functions using Caglioti FWHM.\n",
    "    x: array-like, the independent variable\n",
    "    xy_merge: nx2 array, first column is peak locations, second column is intensities\n",
    "    U, V, W: Caglioti parameters\n",
    "    eta: float, the fraction of the Lorentzian component (0 <= eta <= 1)\n",
    "    \"\"\"\n",
    "    total = np.zeros_like(x)\n",
    "    for row in xy_merge:\n",
    "        center, amplitude = row\n",
    "        total += pseudo_voigt(x, center, amplitude, U, V, W, eta, alpha, loc, scale, pref_or_noise)\n",
    "    total = total / max(total)\n",
    "    return total\n",
    "\n",
    "# Function to simulate XRD for each row\n",
    "def simulate_pv_xrd_for_row(row_tuple, x, eta, U, V, W, alpha, loc, scale, pref_or_noise = False):\n",
    "    index, row = row_tuple  # Unpack the tuple\n",
    "    print(index, end='\\r')\n",
    "    # Combine peak locations and intensities into a single array\n",
    "    xy_merge = np.column_stack((row['xrd_peak_locations'], row['xrd_peak_intensities']))\n",
    "\n",
    "    sim_xrd = superimposed_pseudo_voigt(x, xy_merge, U, V, W, eta, alpha, loc, scale, pref_or_noise)\n",
    "\n",
    "    return sim_xrd\n",
    "\n",
    "def apply_simulation(data, x, eta, U, V, W, worker_num, \n",
    "                     n_workers, peak_shape, alpha, loc, scale, pref_or_noise = False):\n",
    "    \n",
    "    # Split data for the current worker\n",
    "    chunk_size = len(data) // n_workers\n",
    "    start_idx = worker_num * chunk_size\n",
    "    end_idx = None if worker_num == n_workers - 1 else start_idx + chunk_size # Last worker gets the rest\n",
    "    worker_data = data.iloc[start_idx:end_idx]\n",
    "\n",
    "    print(\"Worker\", worker_num, \"processing\", len(worker_data), \"rows\")\n",
    "    print(\"start index:\", start_idx, \"end index:\", end_idx)\n",
    "    \n",
    "    # Process using a list comprehension\n",
    "    results = [simulate_pv_xrd_for_row((idx, row), x, eta, U, V, W,\n",
    "                                        alpha, loc, scale, pref_or_noise) for idx, row in worker_data.iterrows()]\n",
    "    \n",
    "    #turn the list of numpy arrays into a numpy array\n",
    "    results = np.stack(results)\n",
    "\n",
    "    tensor = torch.from_numpy(results).float()\n",
    "\n",
    "    tensor = tensor.reshape(tensor.shape[0], 1, tensor.shape[1])\n",
    "\n",
    "    data_dict = {}\n",
    "    for i in range(len(worker_data)):\n",
    "        key = worker_data['material_id'].iloc[i] + \"_\" + str(peak_shape)\n",
    "        data_dict[key] = tensor[i]\n",
    "\n",
    "    return data_dict\n",
    "\n",
    "peak_shapes = [(0.05, -0.06, 0.07), (0.05, -0.01, 0.01),\n",
    "                   (0.0, 0.0, 0.01), (0.0, 0.0, random.uniform(0.001, 0.1))] #peak shapes from the npj cm paper\n",
    "\n",
    "x = np.arange(5, 90, 0.010) #typical range for the RRUFF data \n",
    "eta = 0 #fully gaussian peaks as simulated in the npj cm paper\n",
    "pref_or_noise = True\n",
    "alpha, loc, scale = 2.1299178874418425, 0, 0.3836337942728039 #gamma distribution parameters from data in a previous notebook\n",
    "\n",
    "for name, data in dataframes.items():\n",
    "    # Assuming peak_shapes is defined elsewhere in your code\n",
    "    for peak_shape, (U, V, W) in enumerate(peak_shapes): \n",
    "        #no pref orientation noise on the second peak shape \n",
    "        if peak_shape == 1:\n",
    "            pref_or_noise = False\n",
    "\n",
    "        sim_pv_xrd_intensities_dict = apply_simulation(data, x, eta, U, V, W, worker_num, n_workers, peak_shape,\n",
    "                                                       alpha, loc, scale, pref_or_noise) #this going to be a n x 8192 array \n",
    "\n",
    "        # Save results as a numpy array\n",
    "        output_filename = data_dir + f'{name}_sim_pv_xrd_intensities_{peak_shape}_worker_{worker_num}.pt'\n",
    "        torch.save(sim_pv_xrd_intensities_dict, output_filename)\n",
    "        print(\"Saved to {}\".format(output_filename))\n",
    "\n",
    "        #reset pref_or_noise\n",
    "        pref_or_noise = True\n",
    "\n",
    "print(\"Simulation completed for worker number:\", worker_num)"
   ]
  },
  {
   "cell_type": "markdown",
   "id": "d2da13b8",
   "metadata": {},
   "source": [
    "Merge"
   ]
  },
  {
   "cell_type": "code",
   "execution_count": 2,
   "id": "811f8a1e",
   "metadata": {},
   "outputs": [
    {
     "name": "stderr",
     "output_type": "stream",
     "text": [
      "100%|██████████| 1/1 [00:00<00:00, 32.44it/s]\n"
     ]
    },
    {
     "name": "stdout",
     "output_type": "stream",
     "text": [
      "Saved train dataset\n"
     ]
    },
    {
     "name": "stderr",
     "output_type": "stream",
     "text": [
      "100%|██████████| 1/1 [00:00<00:00, 40.13it/s]\n"
     ]
    },
    {
     "name": "stdout",
     "output_type": "stream",
     "text": [
      "Saved train dataset\n"
     ]
    },
    {
     "name": "stderr",
     "output_type": "stream",
     "text": [
      "100%|██████████| 1/1 [00:00<00:00, 31.39it/s]\n"
     ]
    },
    {
     "name": "stdout",
     "output_type": "stream",
     "text": [
      "Saved train dataset\n"
     ]
    },
    {
     "name": "stderr",
     "output_type": "stream",
     "text": [
      "100%|██████████| 1/1 [00:00<00:00, 71.76it/s]\n"
     ]
    },
    {
     "name": "stdout",
     "output_type": "stream",
     "text": [
      "Saved train dataset\n"
     ]
    },
    {
     "name": "stderr",
     "output_type": "stream",
     "text": [
      "100%|██████████| 1/1 [00:00<00:00, 310.18it/s]\n"
     ]
    },
    {
     "name": "stdout",
     "output_type": "stream",
     "text": [
      "Saved test dataset\n"
     ]
    },
    {
     "name": "stderr",
     "output_type": "stream",
     "text": [
      "100%|██████████| 1/1 [00:00<00:00, 198.87it/s]\n"
     ]
    },
    {
     "name": "stdout",
     "output_type": "stream",
     "text": [
      "Saved test dataset\n"
     ]
    },
    {
     "name": "stderr",
     "output_type": "stream",
     "text": [
      "100%|██████████| 1/1 [00:00<00:00, 170.59it/s]\n"
     ]
    },
    {
     "name": "stdout",
     "output_type": "stream",
     "text": [
      "Saved test dataset\n"
     ]
    },
    {
     "name": "stderr",
     "output_type": "stream",
     "text": [
      "100%|██████████| 1/1 [00:00<00:00, 336.89it/s]\n"
     ]
    },
    {
     "name": "stdout",
     "output_type": "stream",
     "text": [
      "Saved test dataset\n"
     ]
    },
    {
     "name": "stderr",
     "output_type": "stream",
     "text": [
      "100%|██████████| 1/1 [00:00<00:00, 227.94it/s]\n"
     ]
    },
    {
     "name": "stdout",
     "output_type": "stream",
     "text": [
      "Saved val dataset\n"
     ]
    },
    {
     "name": "stderr",
     "output_type": "stream",
     "text": [
      "100%|██████████| 1/1 [00:00<00:00, 359.59it/s]\n"
     ]
    },
    {
     "name": "stdout",
     "output_type": "stream",
     "text": [
      "Saved val dataset\n"
     ]
    },
    {
     "name": "stderr",
     "output_type": "stream",
     "text": [
      "100%|██████████| 1/1 [00:00<00:00, 265.65it/s]\n"
     ]
    },
    {
     "name": "stdout",
     "output_type": "stream",
     "text": [
      "Saved val dataset\n"
     ]
    },
    {
     "name": "stderr",
     "output_type": "stream",
     "text": [
      "100%|██████████| 1/1 [00:00<00:00, 370.82it/s]"
     ]
    },
    {
     "name": "stdout",
     "output_type": "stream",
     "text": [
      "Saved val dataset\n"
     ]
    },
    {
     "name": "stderr",
     "output_type": "stream",
     "text": [
      "\n"
     ]
    }
   ],
   "source": [
    "import pandas as pd\n",
    "import numpy as np\n",
    "from tqdm import tqdm\n",
    "import torch \n",
    "import os\n",
    "import random \n",
    "\n",
    "num_workers = 1\n",
    "dataset_names =  ['train', 'test', 'val']\n",
    "data_source = \"mp_20\"\n",
    "data_dir = f\"/home/gridsan/tmackey/cdvae/data/mp_20_final_augmented_reproduction/\"\n",
    "peak_shapes = [(0.05, -0.06, 0.07), (0.05, -0.01, 0.01),\n",
    "                   (0.0, 0.0, 0.01), (0.0, 0.0, random.uniform(0.001, 0.1))] #peak shapes from the npj cm paper\n",
    "\n",
    "for name in dataset_names:\n",
    "    for peak_shape, (U, V, W) in enumerate(peak_shapes):\n",
    "        total_dict = {}\n",
    "        for worker_num in tqdm(range(num_workers)):\n",
    "            subdict = torch.load(data_dir + f'{name}_sim_pv_xrd_intensities_{peak_shape}_worker_{worker_num}.pt')\n",
    "            total_dict.update(subdict)\n",
    "        output_filepath = os.path.join(data_dir, f'{name}_sim_pv_xrd_intensities_{peak_shape}.pt')\n",
    "        torch.save(total_dict, output_filepath)\n",
    "        print(f\"Saved {name} dataset\")"
   ]
  },
  {
   "cell_type": "markdown",
   "id": "ed0cbad2",
   "metadata": {},
   "source": [
    "Load in the data to double check "
   ]
  },
  {
   "cell_type": "code",
   "execution_count": 3,
   "id": "1fadf6b7",
   "metadata": {},
   "outputs": [],
   "source": [
    "import pandas as pd\n",
    "import numpy as np\n",
    "import torch"
   ]
  },
  {
   "cell_type": "code",
   "execution_count": 4,
   "id": "76646001",
   "metadata": {},
   "outputs": [],
   "source": [
    "train_dict = torch.load('/home/gridsan/tmackey/cdvae/data/mp_20_final_augmented_reproduction/train_sim_pv_xrd_intensities_0.pt')\n",
    "train_df = pd.read_csv('/home/gridsan/tmackey/cdvae/data/mp_20_final_augmented_reproduction/train.csv')"
   ]
  },
  {
   "cell_type": "code",
   "execution_count": 5,
   "id": "7d58845c",
   "metadata": {},
   "outputs": [],
   "source": [
    "import matplotlib.pyplot as plt"
   ]
  },
  {
   "cell_type": "code",
   "execution_count": 6,
   "id": "a8adac59",
   "metadata": {},
   "outputs": [],
   "source": [
    "#get the first key\n",
    "key = list(train_dict.keys())[1]"
   ]
  },
  {
   "cell_type": "code",
   "execution_count": 7,
   "id": "8526fa97",
   "metadata": {},
   "outputs": [
    {
     "data": {
      "text/plain": [
       "'mp-624492_0'"
      ]
     },
     "execution_count": 7,
     "metadata": {},
     "output_type": "execute_result"
    }
   ],
   "source": [
    "key"
   ]
  },
  {
   "cell_type": "code",
   "execution_count": 8,
   "id": "6cb87e15",
   "metadata": {},
   "outputs": [
    {
     "data": {
      "text/html": [
       "<div>\n",
       "<style scoped>\n",
       "    .dataframe tbody tr th:only-of-type {\n",
       "        vertical-align: middle;\n",
       "    }\n",
       "\n",
       "    .dataframe tbody tr th {\n",
       "        vertical-align: top;\n",
       "    }\n",
       "\n",
       "    .dataframe thead th {\n",
       "        text-align: right;\n",
       "    }\n",
       "</style>\n",
       "<table border=\"1\" class=\"dataframe\">\n",
       "  <thead>\n",
       "    <tr style=\"text-align: right;\">\n",
       "      <th></th>\n",
       "      <th>Unnamed: 0</th>\n",
       "      <th>material_id</th>\n",
       "      <th>formation_energy_per_atom</th>\n",
       "      <th>band_gap</th>\n",
       "      <th>pretty_formula</th>\n",
       "      <th>e_above_hull</th>\n",
       "      <th>elements</th>\n",
       "      <th>cif</th>\n",
       "      <th>spacegroup.number</th>\n",
       "      <th>xrd</th>\n",
       "      <th>xrd_peak_locations</th>\n",
       "      <th>xrd_peak_intensities</th>\n",
       "      <th>atomic_numbers</th>\n",
       "      <th>disc_sim_xrd</th>\n",
       "    </tr>\n",
       "  </thead>\n",
       "  <tbody>\n",
       "    <tr>\n",
       "      <th>1</th>\n",
       "      <td>7892</td>\n",
       "      <td>mp-624492</td>\n",
       "      <td>-0.167614</td>\n",
       "      <td>0.0</td>\n",
       "      <td>Li(Fe3Ge2)2</td>\n",
       "      <td>0.0</td>\n",
       "      <td>['Li', 'Fe', 'Ge']</td>\n",
       "      <td># generated using pymatgen\\ndata_Li(Fe3Ge2)2\\n...</td>\n",
       "      <td>166</td>\n",
       "      <td>DiffractionPattern\\n$2\\Theta$: [13.62107185 20...</td>\n",
       "      <td>[13.62107184670743, 20.825783406557477, 22.287...</td>\n",
       "      <td>[24.600372319557255, 13.30601823126662, 22.409...</td>\n",
       "      <td>[3, 26, 26, 26, 26, 26, 26, 32, 32, 32, 32]</td>\n",
       "      <td>[0.00000000e+00 0.00000000e+00 0.00000000e+00 ...</td>\n",
       "    </tr>\n",
       "  </tbody>\n",
       "</table>\n",
       "</div>"
      ],
      "text/plain": [
       "   Unnamed: 0 material_id  formation_energy_per_atom  band_gap pretty_formula  \\\n",
       "1        7892   mp-624492                  -0.167614       0.0    Li(Fe3Ge2)2   \n",
       "\n",
       "   e_above_hull            elements  \\\n",
       "1           0.0  ['Li', 'Fe', 'Ge']   \n",
       "\n",
       "                                                 cif  spacegroup.number  \\\n",
       "1  # generated using pymatgen\\ndata_Li(Fe3Ge2)2\\n...                166   \n",
       "\n",
       "                                                 xrd  \\\n",
       "1  DiffractionPattern\\n$2\\Theta$: [13.62107185 20...   \n",
       "\n",
       "                                  xrd_peak_locations  \\\n",
       "1  [13.62107184670743, 20.825783406557477, 22.287...   \n",
       "\n",
       "                                xrd_peak_intensities  \\\n",
       "1  [24.600372319557255, 13.30601823126662, 22.409...   \n",
       "\n",
       "                                atomic_numbers  \\\n",
       "1  [3, 26, 26, 26, 26, 26, 26, 32, 32, 32, 32]   \n",
       "\n",
       "                                        disc_sim_xrd  \n",
       "1  [0.00000000e+00 0.00000000e+00 0.00000000e+00 ...  "
      ]
     },
     "execution_count": 8,
     "metadata": {},
     "output_type": "execute_result"
    }
   ],
   "source": [
    "#find the entry in train_df with mp-624492 as the material_id\n",
    "train_df[train_df['material_id'] == 'mp-624492']"
   ]
  },
  {
   "cell_type": "code",
   "execution_count": 9,
   "id": "c8dde274",
   "metadata": {},
   "outputs": [],
   "source": [
    "import ast"
   ]
  },
  {
   "cell_type": "code",
   "execution_count": 10,
   "id": "f1412c9f",
   "metadata": {},
   "outputs": [],
   "source": [
    "xrd_peak_locations = ast.literal_eval(train_df[train_df['material_id'] == 'mp-624492']['xrd_peak_locations'].values[0])\n",
    "xrd_peak_intensities = ast.literal_eval(train_df[train_df['material_id'] == 'mp-624492']['xrd_peak_intensities'].values[0])"
   ]
  },
  {
   "cell_type": "code",
   "execution_count": 11,
   "id": "5409e227",
   "metadata": {},
   "outputs": [
    {
     "data": {
      "text/plain": [
       "Text(0.5, 1.0, 'Simulated XRD for mp-624492')"
      ]
     },
     "execution_count": 11,
     "metadata": {},
     "output_type": "execute_result"
    },
    {
     "data": {
      "image/png": "[encoded data removed]",
      "text/plain": [
       "<Figure size 640x480 with 1 Axes>"
      ]
     },
     "metadata": {},
     "output_type": "display_data"
    }
   ],
   "source": [
    "plt.plot(np.arange(5,90,0.01),list(train_dict[key].numpy().flatten()), color = 'red')\n",
    "#plot the original XRD\n",
    "plt.stem(xrd_peak_locations, xrd_peak_intensities / np.max(xrd_peak_intensities))\n",
    "plt.title('Simulated XRD for mp-624492')\n"
   ]
  },
  {
   "cell_type": "markdown",
   "id": "1a29a78c",
   "metadata": {},
   "source": [
    "Merge together the data from different peak shapes"
   ]
  },
  {
   "cell_type": "code",
   "execution_count": 12,
   "id": "3a8e9763",
   "metadata": {},
   "outputs": [
    {
     "name": "stderr",
     "output_type": "stream",
     "text": [
      "100%|██████████| 1/1 [00:00<00:00, 13.52it/s]\n",
      "100%|██████████| 1/1 [00:00<00:00, 33.40it/s]\n",
      "100%|██████████| 1/1 [00:00<00:00, 34.60it/s]\n",
      "100%|██████████| 1/1 [00:00<00:00, 35.70it/s]\n"
     ]
    },
    {
     "name": "stdout",
     "output_type": "stream",
     "text": [
      "total_dict length 1440\n",
      "Saved train dataset\n"
     ]
    },
    {
     "name": "stderr",
     "output_type": "stream",
     "text": [
      "100%|██████████| 1/1 [00:00<00:00, 235.53it/s]\n",
      "100%|██████████| 1/1 [00:00<00:00, 186.55it/s]\n",
      "100%|██████████| 1/1 [00:00<00:00, 166.63it/s]\n",
      "100%|██████████| 1/1 [00:00<00:00, 193.17it/s]\n"
     ]
    },
    {
     "name": "stdout",
     "output_type": "stream",
     "text": [
      "total_dict length 180\n",
      "Saved test dataset\n"
     ]
    },
    {
     "name": "stderr",
     "output_type": "stream",
     "text": [
      "100%|██████████| 1/1 [00:00<00:00, 148.05it/s]\n",
      "100%|██████████| 1/1 [00:00<00:00, 320.03it/s]\n",
      "100%|██████████| 1/1 [00:00<00:00, 292.00it/s]\n",
      "100%|██████████| 1/1 [00:00<00:00, 229.06it/s]\n"
     ]
    },
    {
     "name": "stdout",
     "output_type": "stream",
     "text": [
      "total_dict length 180\n",
      "Saved val dataset\n"
     ]
    }
   ],
   "source": [
    "import pandas as pd\n",
    "import numpy as np\n",
    "from tqdm import tqdm\n",
    "import torch \n",
    "import os\n",
    "import random\n",
    "\n",
    "num_workers = 1\n",
    "dataset_names =  ['train', 'test', 'val']\n",
    "data_source = \"mp_20\"\n",
    "data_dir = '/home/gridsan/tmackey/cdvae/data/mp_20_final_augmented_reproduction/'\n",
    "peak_shapes = [(0.05, -0.06, 0.07), (0.05, -0.01, 0.01),\n",
    "                   (0.0, 0.0, 0.01), (0.0, 0.0, random.uniform(0.001, 0.1))] #peak shapes from the npj cm paper\n",
    "\n",
    "for name in dataset_names:\n",
    "    total_dict = {}\n",
    "    for peak_shape, (U, V, W) in enumerate(peak_shapes):\n",
    "        for worker_num in tqdm(range(num_workers)):\n",
    "            subdict = torch.load(data_dir + f'{name}_sim_pv_xrd_intensities_{peak_shape}_worker_{worker_num}.pt')\n",
    "            total_dict.update(subdict)\n",
    "    print(\"total_dict length\", len(total_dict))\n",
    "    output_filepath = os.path.join(data_dir, f'{name}_pv_xrd.pt')\n",
    "    torch.save(total_dict, output_filepath)\n",
    "    print(f\"Saved {name} dataset\")"
   ]
  }
 ],
 "metadata": {
  "kernelspec": {
   "display_name": "Python 3 (ipykernel)",
   "language": "python",
   "name": "python3"
  },
  "language_info": {
   "codemirror_mode": {
    "name": "ipython",
    "version": 3
   },
   "file_extension": ".py",
   "mimetype": "text/x-python",
   "name": "python",
   "nbconvert_exporter": "python",
   "pygments_lexer": "ipython3",
   "version": "3.8.17"
  }
 },
 "nbformat": 4,
 "nbformat_minor": 5
}
