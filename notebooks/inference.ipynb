{
 "cells": [
  {
   "cell_type": "markdown",
   "metadata": {},
   "source": [
    "### Inputs:\n",
    "\n",
    "- **Dictionary of XRD Diffraction pattern and Chemical Information**:\n",
    "  - Should be saved in a directory in ~/cdvae/data/ as a dictionary with a unique ID for each pattern and the value being a tuple of the pattern stored as a pytorch tensor and a list of elements in the material. \n",
    "  - Make sure that the list of elements meets the following requirements: \n",
    "    - Elements should be ints corresponding to the atomic numbers\n",
    "    - We do not currently support forcing the exact stoichiometry in this tutorial, but we plan to add this feature in the future.\n",
    "  - Make sure that the diffraction pattern meets the following requirements:\n",
    "    - Range: 5 to 90 degrees\n",
    "    - Increment: 0.01 degrees\n",
    "    - Total length: 8500 points\n",
    "    - If not available, interpolate the data over the range where data was collected, setting other values to 0. Built-in preprocessing support for this method is forthcoming. For now, we have a brief tutorial on how to convert a csv file with this specific range to a pytorch tensor and create the dictionary that is needed for the rest of the tutorial\n",
    "\n",
    "NOTE: \n",
    "- Normalize your XRDs by the maximum magnitude!\n",
    "- Set your tensor type to FloatTensor!"
   ]
  },
  {
   "cell_type": "markdown",
   "metadata": {
    "tags": []
   },
   "source": [
    "# Brief tutorial on how to go from csv -> pytorch tensor"
   ]
  },
  {
   "cell_type": "code",
   "execution_count": 1,
   "metadata": {},
   "outputs": [],
   "source": [
    "import torch\n",
    "import os\n",
    "import matplotlib.pyplot as plt\n",
    "import pandas as pd\n",
    "import numpy as np\n",
    "\n",
    "import sys \n",
    "sys.path.append(\"../../\")\n",
    "\n",
    "from cdvae.common.inference_utils import create_inference_dataframe, create_inference_xrd_data, create_inference_graph_data, load_and_modify_config"
   ]
  },
  {
   "cell_type": "code",
   "execution_count": 2,
   "metadata": {},
   "outputs": [],
   "source": [
    "PbS_xrd = pd.read_csv(\"Galena_xrd_data.csv\", header=None)"
   ]
  },
  {
   "cell_type": "code",
   "execution_count": 3,
   "metadata": {},
   "outputs": [],
   "source": [
    "PbS_xrd[1] = PbS_xrd[1]/max(PbS_xrd[1])"
   ]
  },
  {
   "cell_type": "code",
   "execution_count": 4,
   "metadata": {},
   "outputs": [
    {
     "data": {
      "text/plain": [
       "[<matplotlib.lines.Line2D at 0x7f7801baed60>]"
      ]
     },
     "execution_count": 4,
     "metadata": {},
     "output_type": "execute_result"
    },
    {
     "data": {
      "image/png": "[encoded data removed]",
      "text/plain": [
       "<Figure size 640x480 with 1 Axes>"
      ]
     },
     "metadata": {},
     "output_type": "display_data"
    }
   ],
   "source": [
    "plt.plot(PbS_xrd[0], PbS_xrd[1])"
   ]
  },
  {
   "cell_type": "code",
   "execution_count": 5,
   "metadata": {},
   "outputs": [
    {
     "data": {
      "text/plain": [
       "{'unique_key': (tensor([0.0000, 0.0012, 0.0238,  ..., 0.0002, 0.0098, 0.0028]),\n",
       "  [82, 16])}"
      ]
     },
     "execution_count": 5,
     "metadata": {},
     "output_type": "execute_result"
    }
   ],
   "source": [
    "elements_involved = [82, 16]\n",
    "xrd = torch.tensor(PbS_xrd[1])\n",
    "xrd = xrd.type(torch.FloatTensor) \n",
    "unique_key = \"unique_key\"\n",
    "\n",
    "inference_data = {unique_key: (xrd, elements_involved)}\n",
    "inference_data"
   ]
  },
  {
   "cell_type": "code",
   "execution_count": 7,
   "metadata": {},
   "outputs": [],
   "source": [
    "inference_data_folder_name = \"demo\"\n",
    "inference_data_filename = 'raw_xrd_dict.pt'\n",
    "\n",
    "### CHANGE THESE FOR YOUR OWN SYSTEM \n",
    "conf_folder_path = '/home/gridsan/tmackey/Crystalyze/conf/data'\n",
    "data_folder_path = '/home/gridsan/tmackey/Crystalyze/data/'\n",
    "scripts_folder_path = '/home/gridsan/tmackey/Crystalyze/scripts/'\n",
    "inference_data_dir = os.path.join(data_folder_path, inference_data_folder_name) + '/'\n",
    "os.mkdir(inference_data_dir)\n",
    "\n",
    "torch.save(inference_data, os.path.join(inference_data_dir + inference_data_filename))"
   ]
  },
  {
   "cell_type": "markdown",
   "metadata": {
    "tags": []
   },
   "source": [
    "# Begin Inference! Load in data "
   ]
  },
  {
   "cell_type": "code",
   "execution_count": 8,
   "metadata": {},
   "outputs": [],
   "source": [
    "inference_data_folder_name = \"demo\"\n",
    "inference_data_filename = 'raw_xrd_dict.pt'\n",
    "\n",
    "### CHANGE THESE FOR YOUR OWN SYSTEM \n",
    "conf_folder_path = '/home/gridsan/tmackey/Crystalyze/conf/data'\n",
    "data_folder_path = '/home/gridsan/tmackey/Crystalyze/data/'\n",
    "scripts_folder_path = '/home/gridsan/tmackey/Crystalyze/scripts/'\n",
    "\n",
    "inference_data_dir = os.path.join(data_folder_path, inference_data_folder_name) + '/'\n",
    "\n",
    "inference_data = torch.load(os.path.join(inference_data_dir + inference_data_filename))"
   ]
  },
  {
   "cell_type": "code",
   "execution_count": 9,
   "metadata": {},
   "outputs": [],
   "source": [
    "inference_df = create_inference_dataframe(inference_data)\n",
    "inference_xrd = create_inference_xrd_data(inference_data)\n",
    "inference_graphs = create_inference_graph_data(inference_data)"
   ]
  },
  {
   "cell_type": "code",
   "execution_count": 10,
   "metadata": {},
   "outputs": [],
   "source": [
    "#save inference dataframe to the data directory as test.csv\n",
    "inference_df.to_csv(os.path.join(inference_data_dir, 'test.csv'), index=False)\n",
    "\n",
    "#save the xrd data to the data directory as test_pv_xrd.pt\n",
    "torch.save(inference_xrd, os.path.join(inference_data_dir, 'test_pv_xrd.pt'))\n",
    "\n",
    "#save the dummy graph data to the data directory as test.pt\n",
    "torch.save(inference_graphs, os.path.join(inference_data_dir, 'test.pt'))"
   ]
  },
  {
   "cell_type": "markdown",
   "metadata": {
    "tags": []
   },
   "source": [
    "# create a conf file for our new data "
   ]
  },
  {
   "cell_type": "code",
   "execution_count": 11,
   "metadata": {},
   "outputs": [],
   "source": [
    "data_yaml = load_and_modify_config('demo')\n",
    "\n",
    "#save data_yaml\n",
    "with open(os.path.join(conf_folder_path, 'demo.yaml'), 'w') as f:\n",
    "    f.write(data_yaml)"
   ]
  },
  {
   "cell_type": "markdown",
   "metadata": {
    "tags": []
   },
   "source": [
    "# run inference on the data "
   ]
  },
  {
   "cell_type": "code",
   "execution_count": 12,
   "metadata": {},
   "outputs": [],
   "source": [
    "def run_evaluation_script(model_path, number_of_attempts, force_num_atoms_flag, force_atom_types_flag, label):\n",
    "    \"\"\"\n",
    "    Construct and execute the evaluation script command based on provided flags.\n",
    "\n",
    "    Args:\n",
    "        model_path (str): The path to the model.\n",
    "        number_of_attempts (int): Number of attempts.\n",
    "        force_num_atoms_flag (bool): Flag to force the number of atoms.\n",
    "        force_atom_types_flag (bool): Flag to force the atom types.\n",
    "        label (str): Label for the evaluation.\n",
    "    \"\"\"\n",
    "    # Base command\n",
    "    evaluate_file_path = os.path.join(scripts_folder_path, 'evaluate.py')\n",
    "\n",
    "    for i in range(number_of_attempts):\n",
    "        command = f\"python {evaluate_file_path} --model_path {model_path} --tasks recon --num_batches {number_of_attempts}  --test_set_override {label} --label {label}\"\n",
    "\n",
    "        # Modify command based on flags\n",
    "        if force_num_atoms_flag:\n",
    "            command += \" --force_num_atoms\"\n",
    "        if force_atom_types_flag:\n",
    "            command += \" --force_atom_types\"\n",
    "\n",
    "        # Print the command to be executed\n",
    "        print(f\"Executing command: {command}\")\n",
    "\n",
    "        # Execute the command\n",
    "        os.system(command)\n"
   ]
  },
  {
   "cell_type": "code",
   "execution_count": null,
   "metadata": {
    "tags": []
   },
   "outputs": [
    {
     "name": "stdout",
     "output_type": "stream",
     "text": [
      "Executing command: python /home/gridsan/tmackey/Crystalyze/scripts/evaluate.py --model_path /home/gridsan/tmackey/model_folder --tasks recon --num_batches 10  --test_set_override demo --label demo --force_num_atoms --force_atom_types\n"
     ]
    },
    {
     "name": "stderr",
     "output_type": "stream",
     "text": [
      "/home/gridsan/tmackey/.conda/envs/cdvae/lib/python3.8/site-packages/hydra/experimental/compose.py:16: UserWarning: hydra.experimental.compose() is no longer experimental. Use hydra.compose()\n",
      "  warnings.warn(\n"
     ]
    },
    {
     "name": "stdout",
     "output_type": "stream",
     "text": [
      "Data configuration overridden with demo\n",
      "not using weight initialization\n",
      "the noise_sd is: 0\n",
      "not using weight initialization\n",
      "the noise_sd is: -1\n",
      "using existing csv file  /home/gridsan/tmackey/Crystalyze/data/demo/test.csv\n",
      "using existing graph file  /home/gridsan/tmackey/Crystalyze/data/demo/test.pt\n",
      "using 1 rows given a train_fraction of 1\n",
      "time taken: 0.0815742015838623\n",
      "CrystDataModule(self.datasets={'test': [{'_target_': 'cdvae.pl_data.dataset.CrystDataset', 'graph_method': 'crystalnn', 'lattice_scale_method': 'scale_length', 'name': 'Formation energy test', 'niggli': True, 'path': '/home/gridsan/tmackey/Crystalyze/data/demo/test.csv', 'preprocess_workers': 30, 'primitive': False, 'prop': 'spacegroup.number'}], 'train': {'_target_': 'cdvae.pl_data.dataset.CrystDataset', 'graph_method': 'crystalnn', 'lattice_scale_method': 'scale_length', 'name': 'Formation energy train', 'niggli': True, 'path': '/home/gridsan/tmackey/Crystalyze/data/demo/train.csv', 'preprocess_workers': 30, 'primitive': False, 'prop': 'spacegroup.number', 'train_fraction': 1}, 'val': [{'_target_': 'cdvae.pl_data.dataset.CrystDataset', 'graph_method': 'crystalnn', 'lattice_scale_method': 'scale_length', 'name': 'Formation energy val', 'niggli': True, 'path': '/home/gridsan/tmackey/Crystalyze/data/demo/val.csv', 'preprocess_workers': 30, 'primitive': False, 'prop': 'spacegroup.number'}]}, self.num_workers={'test': 0, 'train': 0, 'val': 0}, self.batch_size={'test': 256, 'train': 256, 'val': 256})\n",
      "[<torch_geometric.loader.dataloader.DataLoader object at 0x7f0f252f3dc0>]\n",
      "<torch_geometric.loader.dataloader.DataLoader object at 0x7f0f254e6d00>\n",
      "<torch_geometric.loader.dataloader.DataLoader object at 0x7f0f254e6d00>\n",
      "Evaluate model on the reconstruction task.\n"
     ]
    },
    {
     "name": "stderr",
     "output_type": "stream",
     "text": [
      "/home/gridsan/tmackey/.conda/envs/cdvae/lib/python3.8/site-packages/torch_geometric/deprecation.py:13: UserWarning: 'data.DataLoader' is deprecated, use 'loader.DataLoader' instead\n",
      "  warnings.warn(out)\n"
     ]
    },
    {
     "name": "stdout",
     "output_type": "stream",
     "text": [
      "batch 0 in 1\n",
      "using psuedo voigt\n",
      "using gt_num_atoms\n",
      "using gt_atom_types\n"
     ]
    },
    {
     "name": "stderr",
     "output_type": "stream",
     "text": [
      "/home/gridsan/tmackey/cdvae/cdvae/common/data_utils.py:627: UserWarning: To copy construct from a tensor, it is recommended to use sourceTensor.clone().detach() or sourceTensor.clone().detach().requires_grad_(True), rather than torch.tensor(sourceTensor).\n",
      "  X = torch.tensor(X, dtype=torch.float)\n",
      "100%|██████████| 50/50 [30:25<00:00, 36.51s/it]\n"
     ]
    },
    {
     "name": "stdout",
     "output_type": "stream",
     "text": [
      "Executing command: python /home/gridsan/tmackey/Crystalyze/scripts/evaluate.py --model_path /home/gridsan/tmackey/model_folder --tasks recon --num_batches 10  --test_set_override demo --label demo --force_num_atoms --force_atom_types\n"
     ]
    }
   ],
   "source": [
    "# Example usage\n",
    "model_path = '/home/gridsan/tmackey/model_folder' # this should be the folder containing the model checkpoint and hyperparameters\n",
    "label = 'demo'\n",
    "number_of_attempts = 10\n",
    "force_num_atoms_flag = True #NOTE: THESE ARE FALSE IN THE PAPER BUT WE SUPPORT THE FUNCTIONALITY NOW\n",
    "force_atom_types_flag = True #NOTE: THESE ARE FALSE IN THE PAPER BUT WE SUPPORT THE FUNCTIONALITY NOW\n",
    "\n",
    "run_evaluation_script(model_path, number_of_attempts, force_num_atoms_flag, force_atom_types_flag, label)"
   ]
  },
  {
   "cell_type": "code",
   "execution_count": 58,
   "metadata": {},
   "outputs": [
    {
     "name": "stdout",
     "output_type": "stream",
     "text": [
      "{'eval_setting': Namespace(batch_size=500, disable_bar=False, down_sample_traj_step=10, force_atom_types=True, force_num_atoms=True, iteration=0, label='demo', min_sigma=0, model_path='/home/gridsan/tmackey/model_folder', n_step_each=100, num_batches=10, num_batches_to_samples=20, num_evals=1, save_traj=False, start_from='data', step_lr=0.0001, tasks=['recon'], test_set_override='demo'), 'input_data_batch': Batch(edge_index=[2, 16], y=[1, 1], frac_coords=[2, 3], atom_types=[2], lengths=[1, 3], angles=[1, 3], to_jimages=[16, 3], num_atoms=[1], num_bonds=[1], num_nodes=2, batch=[2], ptr=[2]), 'frac_coords': tensor([[[0.7855, 0.1706, 0.8207],\n",
      "         [0.7945, 0.6724, 0.3228]]]), 'num_atoms': tensor([[2]]), 'atom_types': tensor([[82, 16]]), 'lengths': tensor([[[3.4600, 3.6938, 5.0651]]]), 'angles': tensor([[[82.4289, 86.3507, 88.5487]]]), 'predicted_property': tensor([[0.]]), 'all_frac_coords_stack': [], 'all_atom_types_stack': [], 'time': 86.75326418876648}\n",
      "{'eval_setting': Namespace(batch_size=500, disable_bar=False, down_sample_traj_step=10, force_atom_types=True, force_num_atoms=True, iteration=1, label='demo', min_sigma=0, model_path='/home/gridsan/tmackey/model_folder', n_step_each=100, num_batches=10, num_batches_to_samples=20, num_evals=1, save_traj=False, start_from='data', step_lr=0.0001, tasks=['recon'], test_set_override='demo'), 'input_data_batch': Batch(edge_index=[2, 16], y=[1, 1], frac_coords=[2, 3], atom_types=[2], lengths=[1, 3], angles=[1, 3], to_jimages=[16, 3], num_atoms=[1], num_bonds=[1], num_nodes=2, batch=[2], ptr=[2]), 'frac_coords': tensor([[[0.0174, 0.7774, 0.3077],\n",
      "         [0.5215, 0.2802, 0.7962]]]), 'num_atoms': tensor([[2]]), 'atom_types': tensor([[82, 16]]), 'lengths': tensor([[[2.9186, 3.2394, 4.2413]]]), 'angles': tensor([[[75.2425, 75.6272, 71.9988]]]), 'predicted_property': tensor([[0.]]), 'all_frac_coords_stack': [], 'all_atom_types_stack': [], 'time': 84.79877066612244}\n",
      "{'eval_setting': Namespace(batch_size=500, disable_bar=False, down_sample_traj_step=10, force_atom_types=True, force_num_atoms=True, iteration=2, label='demo', min_sigma=0, model_path='/home/gridsan/tmackey/model_folder', n_step_each=100, num_batches=10, num_batches_to_samples=20, num_evals=1, save_traj=False, start_from='data', step_lr=0.0001, tasks=['recon'], test_set_override='demo'), 'input_data_batch': Batch(edge_index=[2, 16], y=[1, 1], frac_coords=[2, 3], atom_types=[2], lengths=[1, 3], angles=[1, 3], to_jimages=[16, 3], num_atoms=[1], num_bonds=[1], num_nodes=2, batch=[2], ptr=[2]), 'frac_coords': tensor([[[0.9757, 0.0035, 0.2844],\n",
      "         [0.4741, 0.5022, 0.7861]]]), 'num_atoms': tensor([[2]]), 'atom_types': tensor([[82, 16]]), 'lengths': tensor([[[3.3780, 3.5657, 5.4278]]]), 'angles': tensor([[[77.1991, 78.2441, 70.2898]]]), 'predicted_property': tensor([[0.]]), 'all_frac_coords_stack': [], 'all_atom_types_stack': [], 'time': 87.07538723945618}\n",
      "{'eval_setting': Namespace(batch_size=500, disable_bar=False, down_sample_traj_step=10, force_atom_types=True, force_num_atoms=True, iteration=3, label='demo', min_sigma=0, model_path='/home/gridsan/tmackey/model_folder', n_step_each=100, num_batches=10, num_batches_to_samples=20, num_evals=1, save_traj=False, start_from='data', step_lr=0.0001, tasks=['recon'], test_set_override='demo'), 'input_data_batch': Batch(edge_index=[2, 16], y=[1, 1], frac_coords=[2, 3], atom_types=[2], lengths=[1, 3], angles=[1, 3], to_jimages=[16, 3], num_atoms=[1], num_bonds=[1], num_nodes=2, batch=[2], ptr=[2]), 'frac_coords': tensor([[[0.0119, 0.9934, 0.5887],\n",
      "         [0.5250, 0.4950, 0.0906]]]), 'num_atoms': tensor([[2]]), 'atom_types': tensor([[82, 16]]), 'lengths': tensor([[[3.2023, 3.3600, 5.1101]]]), 'angles': tensor([[[74.8024, 73.0463, 63.8557]]]), 'predicted_property': tensor([[0.]]), 'all_frac_coords_stack': [], 'all_atom_types_stack': [], 'time': 87.48094201087952}\n",
      "{'eval_setting': Namespace(batch_size=500, disable_bar=False, down_sample_traj_step=10, force_atom_types=True, force_num_atoms=True, iteration=4, label='demo', min_sigma=0, model_path='/home/gridsan/tmackey/model_folder', n_step_each=100, num_batches=10, num_batches_to_samples=20, num_evals=1, save_traj=False, start_from='data', step_lr=0.0001, tasks=['recon'], test_set_override='demo'), 'input_data_batch': Batch(edge_index=[2, 16], y=[1, 1], frac_coords=[2, 3], atom_types=[2], lengths=[1, 3], angles=[1, 3], to_jimages=[16, 3], num_atoms=[1], num_bonds=[1], num_nodes=2, batch=[2], ptr=[2]), 'frac_coords': tensor([[[0.5531, 0.2193, 0.8037],\n",
      "         [0.5476, 0.7098, 0.3030]]]), 'num_atoms': tensor([[2]]), 'atom_types': tensor([[82, 16]]), 'lengths': tensor([[[3.9540, 4.2115, 4.3883]]]), 'angles': tensor([[[76.1685, 87.8966, 95.5391]]]), 'predicted_property': tensor([[0.]]), 'all_frac_coords_stack': [], 'all_atom_types_stack': [], 'time': 89.76878833770752}\n"
     ]
    }
   ],
   "source": [
    "#load in model_path / eval_recon_demo.pt\n",
    "for i in range(5):\n",
    "    result_data = torch.load(os.path.join(model_path, f\"eval_recon_demo_{i}.pt\"))\n",
    "    print(result_data)"
   ]
  }
 ],
 "metadata": {
  "kernelspec": {
   "display_name": "cdvae",
   "language": "python",
   "name": "python3"
  },
  "language_info": {
   "codemirror_mode": {
    "name": "ipython",
    "version": 3
   },
   "file_extension": ".py",
   "mimetype": "text/x-python",
   "name": "python",
   "nbconvert_exporter": "python",
   "pygments_lexer": "ipython3",
   "version": "3.8.17"
  }
 },
 "nbformat": 4,
 "nbformat_minor": 4
}
