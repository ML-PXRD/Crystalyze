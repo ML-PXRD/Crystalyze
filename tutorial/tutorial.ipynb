{
 "cells": [
  {
   "cell_type": "markdown",
   "metadata": {},
   "source": [
    "To train the model, run the following command:\n",
    "\n",
    "python cdvae/run.py data=$1 expname=$2 max_num_atoms=$3\n",
    "\n",
    "where:\n",
    "\n",
    "$1 is the name of the directory in data that your training data is in\n",
    "$2 is the name that you want to give to the run\n",
    "$3 is the maximum number of atoms in the crystal structures (set to 20 in general, functionality to adjust this to other values is on the way)"
   ]
  },
  {
   "cell_type": "code",
   "execution_count": null,
   "metadata": {},
   "outputs": [],
   "source": [
    "%run python cdvae/run.py data=mp_20_augmented expname=mp_20_augmented max_num_atoms=20"
   ]
  }
 ],
 "metadata": {
  "kernelspec": {
   "display_name": "cdvae_2",
   "language": "python",
   "name": "python3"
  },
  "language_info": {
   "name": "python",
   "version": "3.8.18"
  }
 },
 "nbformat": 4,
 "nbformat_minor": 2
}
